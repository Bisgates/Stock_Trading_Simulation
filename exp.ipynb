{
 "cells": [
  {
   "cell_type": "code",
   "execution_count": 192,
   "id": "f0e2b962",
   "metadata": {},
   "outputs": [],
   "source": [
    "import numpy as np\n",
    "import seaborn as sns\n",
    "import matplotlib.pyplot as plt\n",
    "\n",
    "\n",
    "def show_fig(info_matrix, name=''):\n",
    "    MA_l = range(10, 150, 10)\n",
    "    MA_r = range(30, 400, 30)\n",
    "\n",
    "    sns.heatmap(info_matrix,  fmt=\".1f\", xticklabels=MA_r, yticklabels=MA_l)\n",
    "    plt.title(name)\n",
    "    plt.xlabel('MA_r')\n",
    "    plt.ylabel('MA_l')\n",
    "    plt.show()\n"
   ]
  },
  {
   "cell_type": "code",
   "execution_count": 78,
   "id": "780e4632",
   "metadata": {},
   "outputs": [],
   "source": [
    "import argparse\n",
    "import os\n",
    "from src.prepare_data import PrepareData\n",
    "from src.trader import TradeManager\n",
    "\n",
    "class AutoTrade:\n",
    "    def __init__(self, stocks_data, log_path='logs/'):\n",
    "        self.stocks_data = stocks_data\n",
    "        self.trader = TradeManager(self.stocks_data, init_value=1.0, log_path=log_path)\n",
    "        self.trading_dates = sorted(set(date for data in self.stocks_data.values() for date in data.index))\n",
    "\n",
    "#     def execute(self):\n",
    "#         for date in self.trading_dates:\n",
    "#             if not self.trader.hold_stock:\n",
    "#                 for stock_name, data in self.stocks_data.items():\n",
    "#                     if date in data.index and data.loc[date, '10MA'] > data.loc[date, '30MA']:\n",
    "#                         self.trader.buy_stock(date, data.loc[date, 'Close'], stock_name)\n",
    "#                         break\n",
    "#             elif self.trader.hold_stock \\\n",
    "#                     and date in self.stocks_data[self.trader.hold_stock].index   \\\n",
    "#                     and self.stocks_data[self.trader.hold_stock].loc[date, '10MA'] < self.stocks_data[self.trader.hold_stock].loc[date, '30MA']:\n",
    "#                 self.trader.sell_stock(date, \n",
    "#                                               self.stocks_data[self.trader.hold_stock].loc[date, 'Close'], \n",
    "#                                               self.trader.hold_stock)\n",
    "\n",
    "#         self.trader.store_transactions()\n",
    "#         total_return = self.trader.display_transactions()\n",
    "#         return total_return\n",
    "\n",
    "    def execute(self):\n",
    "        last_10MA = 0 \n",
    "        last_30MA = 0\n",
    "        for date in self.trading_dates:\n",
    "            if not self.trader.hold_stock:\n",
    "                for stock_name, data in self.stocks_data.items():\n",
    "                    if date in data.index and data.loc[date, '10MA'] > data.loc[date, '30MA'] and \\\n",
    "                       data.loc[date, '10MA'] > last_10MA and data.loc[date, '30MA'] > last_30MA and \\\n",
    "                       data.loc[date, '10MA'] > data.loc[date, 'Close']:\n",
    "                            self.trader.buy_stock(date, data.loc[date, 'Close'], stock_name)\n",
    "                            break\n",
    "            elif self.trader.hold_stock \\\n",
    "                    and date in self.stocks_data[self.trader.hold_stock].index   \\\n",
    "                    and self.stocks_data[self.trader.hold_stock].loc[date, 'Close'] < self.stocks_data[self.trader.hold_stock].loc[date, '10MA'] \\\n",
    "                    and self.stocks_data[self.trader.hold_stock].loc[date, '10MA'] < last_10MA \\\n",
    "                    and self.stocks_data[self.trader.hold_stock].loc[date, '30MA'] < last_30MA \\\n",
    "                    and self.stocks_data[self.trader.hold_stock].loc[date, '10MA'] < self.stocks_data[self.trader.hold_stock].loc[date, '30MA']:\n",
    "                self.trader.sell_stock(date, \n",
    "                                              self.stocks_data[self.trader.hold_stock].loc[date, 'Close'], \n",
    "                                              self.trader.hold_stock)\n",
    "            if date in data.index:\n",
    "                last_10MA = data.loc[date, '10MA']\n",
    "                last_30MA = data.loc[date, '30MA']\n",
    "\n",
    "        self.trader.store_transactions()\n",
    "        total_return = self.trader.display_transactions()\n",
    "        return total_return\n",
    "        \n",
    "\n",
    "def main(files_path=None):\n",
    "    import numpy as np\n",
    "    range_a = range(10, 150, 10)\n",
    "    range_b = range(30, 400, 30)\n",
    "    infos = np.zeros((len(range_a), len(range_b)))\n",
    "    for ii, i in enumerate(range_a):\n",
    "        for jj, j in enumerate(range_b):\n",
    "            if i >= j:\n",
    "                continue\n",
    "            stocks_data = {}\n",
    "            if files_path.endswith('.csv'):\n",
    "                data = PrepareData(files_path).data\n",
    "                data['10MA'] = data['Close'].rolling(window=i).mean()\n",
    "                data['30MA'] = data['Close'].rolling(window=j).mean()\n",
    "                stock_name = os.path.splitext(files_path)[0].split('/')[-1]\n",
    "                stocks_data[stock_name] = data\n",
    "            else:\n",
    "                for file_name in os.listdir(files_path):\n",
    "                    if file_name.endswith('.csv'):\n",
    "                        file_path = os.path.join(files_path, file_name)\n",
    "                        data = PrepareData(file_path).data\n",
    "                        data['10MA'] = data['Close'].rolling(window=i).mean()\n",
    "                        data['30MA'] = data['Close'].rolling(window=j).mean()\n",
    "                        stock_name = os.path.splitext(file_name)[0]\n",
    "                        stocks_data[stock_name] = data\n",
    "            auto_trade = AutoTrade(stocks_data)\n",
    "            total_return = auto_trade.execute()\n",
    "            infos[ii, jj] = round(total_return, 2)\n",
    "    return infos\n",
    "\n"
   ]
  },
  {
   "cell_type": "code",
   "execution_count": 82,
   "id": "8d5cffc3",
   "metadata": {
    "scrolled": true
   },
   "outputs": [
    {
     "name": "stdout",
     "output_type": "stream",
     "text": [
      "Bought futu on 2019-11-13 at 10.95\n",
      "Sold futu on 2019-11-26 at 10.56, Return Rate: -3.55%, Hold Duration: 13 days\n",
      "\n",
      "Bought futu on 2020-01-24 at 11.05\n",
      "Sold futu on 2020-03-12 at 10.42, Return Rate: -5.68%, Hold Duration: 48 days\n",
      "\n",
      "Bought futu on 2020-06-11 at 18.16\n",
      "Sold futu on 2020-09-10 at 31.08, Return Rate: 70.93%, Hold Duration: 91 days\n",
      "\n",
      "Bought futu on 2020-10-19 at 30.96\n",
      "Sold futu on 2020-12-28 at 38.91, Return Rate: 25.60%, Hold Duration: 70 days\n",
      "\n",
      "Bought futu on 2021-02-23 at 167.19\n",
      "Sold futu on 2021-03-23 at 115.26, Return Rate: -30.97%, Hold Duration: 28 days\n",
      "\n",
      "Bought futu on 2021-05-04 at 142.34\n",
      "Sold futu on 2021-05-11 at 127.96, Return Rate: -10.07%, Hold Duration: 7 days\n",
      "\n",
      "Bought futu on 2021-06-16 at 146.12\n",
      "Sold futu on 2021-07-13 at 135.11, Return Rate: -7.51%, Hold Duration: 27 days\n",
      "\n",
      "Bought futu on 2022-02-17 at 44.28\n",
      "Sold futu on 2022-02-24 at 40.78, Return Rate: -7.88%, Hold Duration: 7 days\n",
      "\n",
      "Bought futu on 2022-06-13 at 41.51\n",
      "Sold futu on 2022-07-22 at 44.65, Return Rate: 7.54%, Hold Duration: 39 days\n",
      "\n",
      "Bought futu on 2022-09-07 at 44.41\n",
      "Sold futu on 2022-09-22 at 39.68, Return Rate: -10.62%, Hold Duration: 15 days\n",
      "\n",
      "Bought futu on 2022-12-16 at 66.47\n",
      "Sold futu on 2022-12-30 at 40.65, Return Rate: -38.73%, Hold Duration: 14 days\n",
      "\n",
      "Bought futu on 2023-04-05 at 48.30\n",
      "Sold futu on 2023-04-24 at 44.14, Return Rate: -8.59%, Hold Duration: 19 days\n",
      "\n"
     ]
    },
    {
     "data": {
      "text/html": [
       "<pre style=\"white-space:pre;overflow-x:auto;line-height:normal;font-family:Menlo,'DejaVu Sans Mono',consolas,'Courier New',monospace\">┏━━━━━━━━━━━━┳━━━━━━━━━━━━┳━━━━━━━━━━━━┳━━━━━━━━━━━┳━━━━━━━━━━━━┳━━━━━━━━━━━━━┳━━━━━━━━━━━━━━━┓\n",
       "┃<span style=\"color: #800080; text-decoration-color: #800080; font-weight: bold\"> Stock Name </span>┃<span style=\"color: #800080; text-decoration-color: #800080; font-weight: bold\">   Buy Date </span>┃<span style=\"color: #800080; text-decoration-color: #800080; font-weight: bold\">  Sell Date </span>┃<span style=\"color: #800080; text-decoration-color: #800080; font-weight: bold\"> Buy Price </span>┃<span style=\"color: #800080; text-decoration-color: #800080; font-weight: bold\"> Sell Price </span>┃<span style=\"color: #800080; text-decoration-color: #800080; font-weight: bold\"> Return Rate </span>┃<span style=\"color: #800080; text-decoration-color: #800080; font-weight: bold\"> Hold Duration </span>┃\n",
       "┡━━━━━━━━━━━━╇━━━━━━━━━━━━╇━━━━━━━━━━━━╇━━━━━━━━━━━╇━━━━━━━━━━━━╇━━━━━━━━━━━━━╇━━━━━━━━━━━━━━━┩\n",
       "│       futu │ 2019-11-13 │ 2019-11-26 │     10.95 │      10.56 │      <span style=\"color: #800000; text-decoration-color: #800000\">-3.55%</span> │            13 │\n",
       "│       futu │ 2020-01-24 │ 2020-03-12 │     11.05 │      10.42 │      <span style=\"color: #800000; text-decoration-color: #800000\">-5.68%</span> │            48 │\n",
       "│       futu │ 2020-06-11 │ 2020-09-10 │     18.16 │      31.08 │      <span style=\"color: #008000; text-decoration-color: #008000; font-weight: bold\">70.93%</span> │            91 │\n",
       "│       futu │ 2020-10-19 │ 2020-12-28 │     30.96 │      38.91 │      <span style=\"color: #008000; text-decoration-color: #008000; font-weight: bold\">25.60%</span> │            70 │\n",
       "│       futu │ 2021-02-23 │ 2021-03-23 │    167.19 │     115.26 │     <span style=\"color: #800000; text-decoration-color: #800000; font-weight: bold\">-30.97%</span> │            28 │\n",
       "│       futu │ 2021-05-04 │ 2021-05-11 │    142.34 │     127.96 │     <span style=\"color: #800000; text-decoration-color: #800000; font-weight: bold\">-10.07%</span> │             7 │\n",
       "│       futu │ 2021-06-16 │ 2021-07-13 │    146.12 │     135.11 │      <span style=\"color: #800000; text-decoration-color: #800000\">-7.51%</span> │            27 │\n",
       "│       futu │ 2022-02-17 │ 2022-02-24 │     44.28 │      40.78 │      <span style=\"color: #800000; text-decoration-color: #800000\">-7.88%</span> │             7 │\n",
       "│       futu │ 2022-06-13 │ 2022-07-22 │     41.51 │      44.65 │       <span style=\"color: #008000; text-decoration-color: #008000\">7.54%</span> │            39 │\n",
       "│       futu │ 2022-09-07 │ 2022-09-22 │     44.41 │      39.68 │     <span style=\"color: #800000; text-decoration-color: #800000; font-weight: bold\">-10.62%</span> │            15 │\n",
       "│       futu │ 2022-12-16 │ 2022-12-30 │     66.47 │      40.65 │     <span style=\"color: #800000; text-decoration-color: #800000; font-weight: bold\">-38.73%</span> │            14 │\n",
       "│       futu │ 2023-04-05 │ 2023-04-24 │      48.3 │      44.14 │      <span style=\"color: #800000; text-decoration-color: #800000\">-8.59%</span> │            19 │\n",
       "└────────────┴────────────┴────────────┴───────────┴────────────┴─────────────┴───────────────┘\n",
       "</pre>\n"
      ],
      "text/plain": [
       "┏━━━━━━━━━━━━┳━━━━━━━━━━━━┳━━━━━━━━━━━━┳━━━━━━━━━━━┳━━━━━━━━━━━━┳━━━━━━━━━━━━━┳━━━━━━━━━━━━━━━┓\n",
       "┃\u001b[1;35m \u001b[0m\u001b[1;35mStock Name\u001b[0m\u001b[1;35m \u001b[0m┃\u001b[1;35m \u001b[0m\u001b[1;35m  Buy Date\u001b[0m\u001b[1;35m \u001b[0m┃\u001b[1;35m \u001b[0m\u001b[1;35m Sell Date\u001b[0m\u001b[1;35m \u001b[0m┃\u001b[1;35m \u001b[0m\u001b[1;35mBuy Price\u001b[0m\u001b[1;35m \u001b[0m┃\u001b[1;35m \u001b[0m\u001b[1;35mSell Price\u001b[0m\u001b[1;35m \u001b[0m┃\u001b[1;35m \u001b[0m\u001b[1;35mReturn Rate\u001b[0m\u001b[1;35m \u001b[0m┃\u001b[1;35m \u001b[0m\u001b[1;35mHold Duration\u001b[0m\u001b[1;35m \u001b[0m┃\n",
       "┡━━━━━━━━━━━━╇━━━━━━━━━━━━╇━━━━━━━━━━━━╇━━━━━━━━━━━╇━━━━━━━━━━━━╇━━━━━━━━━━━━━╇━━━━━━━━━━━━━━━┩\n",
       "│       futu │ 2019-11-13 │ 2019-11-26 │     10.95 │      10.56 │      \u001b[31m-3.55%\u001b[0m │            13 │\n",
       "│       futu │ 2020-01-24 │ 2020-03-12 │     11.05 │      10.42 │      \u001b[31m-5.68%\u001b[0m │            48 │\n",
       "│       futu │ 2020-06-11 │ 2020-09-10 │     18.16 │      31.08 │      \u001b[1;32m70.93%\u001b[0m │            91 │\n",
       "│       futu │ 2020-10-19 │ 2020-12-28 │     30.96 │      38.91 │      \u001b[1;32m25.60%\u001b[0m │            70 │\n",
       "│       futu │ 2021-02-23 │ 2021-03-23 │    167.19 │     115.26 │     \u001b[1;31m-30.97%\u001b[0m │            28 │\n",
       "│       futu │ 2021-05-04 │ 2021-05-11 │    142.34 │     127.96 │     \u001b[1;31m-10.07%\u001b[0m │             7 │\n",
       "│       futu │ 2021-06-16 │ 2021-07-13 │    146.12 │     135.11 │      \u001b[31m-7.51%\u001b[0m │            27 │\n",
       "│       futu │ 2022-02-17 │ 2022-02-24 │     44.28 │      40.78 │      \u001b[31m-7.88%\u001b[0m │             7 │\n",
       "│       futu │ 2022-06-13 │ 2022-07-22 │     41.51 │      44.65 │       \u001b[32m7.54%\u001b[0m │            39 │\n",
       "│       futu │ 2022-09-07 │ 2022-09-22 │     44.41 │      39.68 │     \u001b[1;31m-10.62%\u001b[0m │            15 │\n",
       "│       futu │ 2022-12-16 │ 2022-12-30 │     66.47 │      40.65 │     \u001b[1;31m-38.73%\u001b[0m │            14 │\n",
       "│       futu │ 2023-04-05 │ 2023-04-24 │      48.3 │      44.14 │      \u001b[31m-8.59%\u001b[0m │            19 │\n",
       "└────────────┴────────────┴────────────┴───────────┴────────────┴─────────────┴───────────────┘\n"
      ]
     },
     "metadata": {},
     "output_type": "display_data"
    },
    {
     "data": {
      "text/html": [
       "<pre style=\"white-space:pre;overflow-x:auto;line-height:normal;font-family:Menlo,'DejaVu Sans Mono',consolas,'Courier New',monospace\">┏━━━━━━━━━━━━━━━━━━━┳━━━━━━━━━┓\n",
       "┃<span style=\"color: #800080; text-decoration-color: #800080; font-weight: bold\">       0_th Trader </span>┃<span style=\"color: #800080; text-decoration-color: #800080; font-weight: bold\">   Value </span>┃\n",
       "┡━━━━━━━━━━━━━━━━━━━╇━━━━━━━━━┩\n",
       "│      Total Return │ -44.39% │\n",
       "│ Buy &amp; Hold Return │ 176.37% │\n",
       "│        Init Value │    1.00 │\n",
       "│     Current Value │    0.56 │\n",
       "└───────────────────┴─────────┘\n",
       "</pre>\n"
      ],
      "text/plain": [
       "┏━━━━━━━━━━━━━━━━━━━┳━━━━━━━━━┓\n",
       "┃\u001b[1;35m \u001b[0m\u001b[1;35m      0_th Trader\u001b[0m\u001b[1;35m \u001b[0m┃\u001b[1;35m \u001b[0m\u001b[1;35m  Value\u001b[0m\u001b[1;35m \u001b[0m┃\n",
       "┡━━━━━━━━━━━━━━━━━━━╇━━━━━━━━━┩\n",
       "│      Total Return │ -44.39% │\n",
       "│ Buy & Hold Return │ 176.37% │\n",
       "│        Init Value │    1.00 │\n",
       "│     Current Value │    0.56 │\n",
       "└───────────────────┴─────────┘\n"
      ]
     },
     "metadata": {},
     "output_type": "display_data"
    },
    {
     "name": "stdout",
     "output_type": "stream",
     "text": [
      "Bought futu on 2019-08-30 at 10.80\n",
      "Sold futu on 2019-10-04 at 10.53, Return Rate: -2.49%, Hold Duration: 35 days\n",
      "\n",
      "Bought futu on 2020-01-24 at 11.05\n",
      "Sold futu on 2020-03-18 at 8.89, Return Rate: -19.49%, Hold Duration: 54 days\n",
      "\n",
      "Bought futu on 2020-06-11 at 18.16\n",
      "Sold futu on 2020-09-29 at 28.50, Return Rate: 56.77%, Hold Duration: 110 days\n",
      "\n",
      "Bought futu on 2020-11-27 at 43.98\n",
      "Sold futu on 2021-05-06 at 134.33, Return Rate: 204.82%, Hold Duration: 160 days\n",
      "\n",
      "Bought futu on 2021-06-10 at 144.12\n",
      "Sold futu on 2021-07-15 at 134.80, Return Rate: -6.45%, Hold Duration: 35 days\n",
      "\n",
      "Bought futu on 2022-06-13 at 41.51\n",
      "Sold futu on 2022-09-16 at 41.00, Return Rate: -1.22%, Hold Duration: 95 days\n",
      "\n",
      "Bought futu on 2022-12-16 at 66.47\n",
      "Sold futu on 2023-02-10 at 45.90, Return Rate: -30.85%, Hold Duration: 56 days\n",
      "\n",
      "Bought futu on 2023-04-05 at 48.30\n",
      "Sold futu on 2023-04-20 at 47.03, Return Rate: -2.62%, Hold Duration: 15 days\n",
      "\n"
     ]
    },
    {
     "data": {
      "text/html": [
       "<pre style=\"white-space:pre;overflow-x:auto;line-height:normal;font-family:Menlo,'DejaVu Sans Mono',consolas,'Courier New',monospace\">┏━━━━━━━━━━━━┳━━━━━━━━━━━━┳━━━━━━━━━━━━┳━━━━━━━━━━━┳━━━━━━━━━━━━┳━━━━━━━━━━━━━┳━━━━━━━━━━━━━━━┓\n",
       "┃<span style=\"color: #800080; text-decoration-color: #800080; font-weight: bold\"> Stock Name </span>┃<span style=\"color: #800080; text-decoration-color: #800080; font-weight: bold\">   Buy Date </span>┃<span style=\"color: #800080; text-decoration-color: #800080; font-weight: bold\">  Sell Date </span>┃<span style=\"color: #800080; text-decoration-color: #800080; font-weight: bold\"> Buy Price </span>┃<span style=\"color: #800080; text-decoration-color: #800080; font-weight: bold\"> Sell Price </span>┃<span style=\"color: #800080; text-decoration-color: #800080; font-weight: bold\"> Return Rate </span>┃<span style=\"color: #800080; text-decoration-color: #800080; font-weight: bold\"> Hold Duration </span>┃\n",
       "┡━━━━━━━━━━━━╇━━━━━━━━━━━━╇━━━━━━━━━━━━╇━━━━━━━━━━━╇━━━━━━━━━━━━╇━━━━━━━━━━━━━╇━━━━━━━━━━━━━━━┩\n",
       "│       futu │ 2019-08-30 │ 2019-10-04 │      10.8 │      10.53 │      <span style=\"color: #800000; text-decoration-color: #800000\">-2.49%</span> │            35 │\n",
       "│       futu │ 2020-01-24 │ 2020-03-18 │     11.05 │       8.89 │     <span style=\"color: #800000; text-decoration-color: #800000; font-weight: bold\">-19.49%</span> │            54 │\n",
       "│       futu │ 2020-06-11 │ 2020-09-29 │     18.16 │       28.5 │      <span style=\"color: #008000; text-decoration-color: #008000; font-weight: bold\">56.77%</span> │           110 │\n",
       "│       futu │ 2020-11-27 │ 2021-05-06 │     43.98 │     134.33 │     <span style=\"color: #008000; text-decoration-color: #008000; font-weight: bold\">204.82%</span> │           160 │\n",
       "│       futu │ 2021-06-10 │ 2021-07-15 │    144.12 │      134.8 │      <span style=\"color: #800000; text-decoration-color: #800000\">-6.45%</span> │            35 │\n",
       "│       futu │ 2022-06-13 │ 2022-09-16 │     41.51 │       41.0 │      <span style=\"color: #800000; text-decoration-color: #800000\">-1.22%</span> │            95 │\n",
       "│       futu │ 2022-12-16 │ 2023-02-10 │     66.47 │       45.9 │     <span style=\"color: #800000; text-decoration-color: #800000; font-weight: bold\">-30.85%</span> │            56 │\n",
       "│       futu │ 2023-04-05 │ 2023-04-20 │      48.3 │      47.03 │      <span style=\"color: #800000; text-decoration-color: #800000\">-2.62%</span> │            15 │\n",
       "└────────────┴────────────┴────────────┴───────────┴────────────┴─────────────┴───────────────┘\n",
       "</pre>\n"
      ],
      "text/plain": [
       "┏━━━━━━━━━━━━┳━━━━━━━━━━━━┳━━━━━━━━━━━━┳━━━━━━━━━━━┳━━━━━━━━━━━━┳━━━━━━━━━━━━━┳━━━━━━━━━━━━━━━┓\n",
       "┃\u001b[1;35m \u001b[0m\u001b[1;35mStock Name\u001b[0m\u001b[1;35m \u001b[0m┃\u001b[1;35m \u001b[0m\u001b[1;35m  Buy Date\u001b[0m\u001b[1;35m \u001b[0m┃\u001b[1;35m \u001b[0m\u001b[1;35m Sell Date\u001b[0m\u001b[1;35m \u001b[0m┃\u001b[1;35m \u001b[0m\u001b[1;35mBuy Price\u001b[0m\u001b[1;35m \u001b[0m┃\u001b[1;35m \u001b[0m\u001b[1;35mSell Price\u001b[0m\u001b[1;35m \u001b[0m┃\u001b[1;35m \u001b[0m\u001b[1;35mReturn Rate\u001b[0m\u001b[1;35m \u001b[0m┃\u001b[1;35m \u001b[0m\u001b[1;35mHold Duration\u001b[0m\u001b[1;35m \u001b[0m┃\n",
       "┡━━━━━━━━━━━━╇━━━━━━━━━━━━╇━━━━━━━━━━━━╇━━━━━━━━━━━╇━━━━━━━━━━━━╇━━━━━━━━━━━━━╇━━━━━━━━━━━━━━━┩\n",
       "│       futu │ 2019-08-30 │ 2019-10-04 │      10.8 │      10.53 │      \u001b[31m-2.49%\u001b[0m │            35 │\n",
       "│       futu │ 2020-01-24 │ 2020-03-18 │     11.05 │       8.89 │     \u001b[1;31m-19.49%\u001b[0m │            54 │\n",
       "│       futu │ 2020-06-11 │ 2020-09-29 │     18.16 │       28.5 │      \u001b[1;32m56.77%\u001b[0m │           110 │\n",
       "│       futu │ 2020-11-27 │ 2021-05-06 │     43.98 │     134.33 │     \u001b[1;32m204.82%\u001b[0m │           160 │\n",
       "│       futu │ 2021-06-10 │ 2021-07-15 │    144.12 │      134.8 │      \u001b[31m-6.45%\u001b[0m │            35 │\n",
       "│       futu │ 2022-06-13 │ 2022-09-16 │     41.51 │       41.0 │      \u001b[31m-1.22%\u001b[0m │            95 │\n",
       "│       futu │ 2022-12-16 │ 2023-02-10 │     66.47 │       45.9 │     \u001b[1;31m-30.85%\u001b[0m │            56 │\n",
       "│       futu │ 2023-04-05 │ 2023-04-20 │      48.3 │      47.03 │      \u001b[31m-2.62%\u001b[0m │            15 │\n",
       "└────────────┴────────────┴────────────┴───────────┴────────────┴─────────────┴───────────────┘\n"
      ]
     },
     "metadata": {},
     "output_type": "display_data"
    },
    {
     "data": {
      "text/html": [
       "<pre style=\"white-space:pre;overflow-x:auto;line-height:normal;font-family:Menlo,'DejaVu Sans Mono',consolas,'Courier New',monospace\">┏━━━━━━━━━━━━━━━━━━━┳━━━━━━━━━┓\n",
       "┃<span style=\"color: #800080; text-decoration-color: #800080; font-weight: bold\">       0_th Trader </span>┃<span style=\"color: #800080; text-decoration-color: #800080; font-weight: bold\">   Value </span>┃\n",
       "┡━━━━━━━━━━━━━━━━━━━╇━━━━━━━━━┩\n",
       "│      Total Return │ 133.41% │\n",
       "│ Buy &amp; Hold Return │ 176.37% │\n",
       "│        Init Value │    1.00 │\n",
       "│     Current Value │    2.33 │\n",
       "└───────────────────┴─────────┘\n",
       "</pre>\n"
      ],
      "text/plain": [
       "┏━━━━━━━━━━━━━━━━━━━┳━━━━━━━━━┓\n",
       "┃\u001b[1;35m \u001b[0m\u001b[1;35m      0_th Trader\u001b[0m\u001b[1;35m \u001b[0m┃\u001b[1;35m \u001b[0m\u001b[1;35m  Value\u001b[0m\u001b[1;35m \u001b[0m┃\n",
       "┡━━━━━━━━━━━━━━━━━━━╇━━━━━━━━━┩\n",
       "│      Total Return │ 133.41% │\n",
       "│ Buy & Hold Return │ 176.37% │\n",
       "│        Init Value │    1.00 │\n",
       "│     Current Value │    2.33 │\n",
       "└───────────────────┴─────────┘\n"
      ]
     },
     "metadata": {},
     "output_type": "display_data"
    },
    {
     "name": "stdout",
     "output_type": "stream",
     "text": [
      "Bought futu on 2019-11-14 at 11.03\n",
      "Sold futu on 2019-11-25 at 10.66, Return Rate: -3.34%, Hold Duration: 11 days\n",
      "\n",
      "Bought futu on 2020-02-24 at 12.00\n",
      "Sold futu on 2020-03-19 at 8.77, Return Rate: -26.84%, Hold Duration: 24 days\n",
      "\n",
      "Bought futu on 2020-06-11 at 18.16\n",
      "Sold futu on 2021-07-16 at 133.40, Return Rate: 632.68%, Hold Duration: 400 days\n",
      "\n",
      "Bought futu on 2022-06-16 at 42.40\n",
      "Sold futu on 2022-10-11 at 35.08, Return Rate: -17.21%, Hold Duration: 117 days\n",
      "\n",
      "Bought futu on 2022-12-16 at 66.47\n",
      "Sold futu on 2023-03-28 at 46.20, Return Rate: -30.40%, Hold Duration: 102 days\n",
      "\n"
     ]
    },
    {
     "data": {
      "text/html": [
       "<pre style=\"white-space:pre;overflow-x:auto;line-height:normal;font-family:Menlo,'DejaVu Sans Mono',consolas,'Courier New',monospace\">┏━━━━━━━━━━━━┳━━━━━━━━━━━━┳━━━━━━━━━━━━┳━━━━━━━━━━━┳━━━━━━━━━━━━┳━━━━━━━━━━━━━┳━━━━━━━━━━━━━━━┓\n",
       "┃<span style=\"color: #800080; text-decoration-color: #800080; font-weight: bold\"> Stock Name </span>┃<span style=\"color: #800080; text-decoration-color: #800080; font-weight: bold\">   Buy Date </span>┃<span style=\"color: #800080; text-decoration-color: #800080; font-weight: bold\">  Sell Date </span>┃<span style=\"color: #800080; text-decoration-color: #800080; font-weight: bold\"> Buy Price </span>┃<span style=\"color: #800080; text-decoration-color: #800080; font-weight: bold\"> Sell Price </span>┃<span style=\"color: #800080; text-decoration-color: #800080; font-weight: bold\"> Return Rate </span>┃<span style=\"color: #800080; text-decoration-color: #800080; font-weight: bold\"> Hold Duration </span>┃\n",
       "┡━━━━━━━━━━━━╇━━━━━━━━━━━━╇━━━━━━━━━━━━╇━━━━━━━━━━━╇━━━━━━━━━━━━╇━━━━━━━━━━━━━╇━━━━━━━━━━━━━━━┩\n",
       "│       futu │ 2019-11-14 │ 2019-11-25 │     11.03 │      10.66 │      <span style=\"color: #800000; text-decoration-color: #800000\">-3.34%</span> │            11 │\n",
       "│       futu │ 2020-02-24 │ 2020-03-19 │      12.0 │       8.77 │     <span style=\"color: #800000; text-decoration-color: #800000; font-weight: bold\">-26.84%</span> │            24 │\n",
       "│       futu │ 2020-06-11 │ 2021-07-16 │     18.16 │      133.4 │     <span style=\"color: #008000; text-decoration-color: #008000; font-weight: bold\">632.68%</span> │           400 │\n",
       "│       futu │ 2022-06-16 │ 2022-10-11 │      42.4 │      35.08 │     <span style=\"color: #800000; text-decoration-color: #800000; font-weight: bold\">-17.21%</span> │           117 │\n",
       "│       futu │ 2022-12-16 │ 2023-03-28 │     66.47 │       46.2 │     <span style=\"color: #800000; text-decoration-color: #800000; font-weight: bold\">-30.40%</span> │           102 │\n",
       "└────────────┴────────────┴────────────┴───────────┴────────────┴─────────────┴───────────────┘\n",
       "</pre>\n"
      ],
      "text/plain": [
       "┏━━━━━━━━━━━━┳━━━━━━━━━━━━┳━━━━━━━━━━━━┳━━━━━━━━━━━┳━━━━━━━━━━━━┳━━━━━━━━━━━━━┳━━━━━━━━━━━━━━━┓\n",
       "┃\u001b[1;35m \u001b[0m\u001b[1;35mStock Name\u001b[0m\u001b[1;35m \u001b[0m┃\u001b[1;35m \u001b[0m\u001b[1;35m  Buy Date\u001b[0m\u001b[1;35m \u001b[0m┃\u001b[1;35m \u001b[0m\u001b[1;35m Sell Date\u001b[0m\u001b[1;35m \u001b[0m┃\u001b[1;35m \u001b[0m\u001b[1;35mBuy Price\u001b[0m\u001b[1;35m \u001b[0m┃\u001b[1;35m \u001b[0m\u001b[1;35mSell Price\u001b[0m\u001b[1;35m \u001b[0m┃\u001b[1;35m \u001b[0m\u001b[1;35mReturn Rate\u001b[0m\u001b[1;35m \u001b[0m┃\u001b[1;35m \u001b[0m\u001b[1;35mHold Duration\u001b[0m\u001b[1;35m \u001b[0m┃\n",
       "┡━━━━━━━━━━━━╇━━━━━━━━━━━━╇━━━━━━━━━━━━╇━━━━━━━━━━━╇━━━━━━━━━━━━╇━━━━━━━━━━━━━╇━━━━━━━━━━━━━━━┩\n",
       "│       futu │ 2019-11-14 │ 2019-11-25 │     11.03 │      10.66 │      \u001b[31m-3.34%\u001b[0m │            11 │\n",
       "│       futu │ 2020-02-24 │ 2020-03-19 │      12.0 │       8.77 │     \u001b[1;31m-26.84%\u001b[0m │            24 │\n",
       "│       futu │ 2020-06-11 │ 2021-07-16 │     18.16 │      133.4 │     \u001b[1;32m632.68%\u001b[0m │           400 │\n",
       "│       futu │ 2022-06-16 │ 2022-10-11 │      42.4 │      35.08 │     \u001b[1;31m-17.21%\u001b[0m │           117 │\n",
       "│       futu │ 2022-12-16 │ 2023-03-28 │     66.47 │       46.2 │     \u001b[1;31m-30.40%\u001b[0m │           102 │\n",
       "└────────────┴────────────┴────────────┴───────────┴────────────┴─────────────┴───────────────┘\n"
      ]
     },
     "metadata": {},
     "output_type": "display_data"
    },
    {
     "data": {
      "text/html": [
       "<pre style=\"white-space:pre;overflow-x:auto;line-height:normal;font-family:Menlo,'DejaVu Sans Mono',consolas,'Courier New',monospace\">┏━━━━━━━━━━━━━━━━━━━┳━━━━━━━━━┓\n",
       "┃<span style=\"color: #800080; text-decoration-color: #800080; font-weight: bold\">       0_th Trader </span>┃<span style=\"color: #800080; text-decoration-color: #800080; font-weight: bold\">   Value </span>┃\n",
       "┡━━━━━━━━━━━━━━━━━━━╇━━━━━━━━━┩\n",
       "│      Total Return │ 198.53% │\n",
       "│ Buy &amp; Hold Return │ 176.37% │\n",
       "│        Init Value │    1.00 │\n",
       "│     Current Value │    2.99 │\n",
       "└───────────────────┴─────────┘\n",
       "</pre>\n"
      ],
      "text/plain": [
       "┏━━━━━━━━━━━━━━━━━━━┳━━━━━━━━━┓\n",
       "┃\u001b[1;35m \u001b[0m\u001b[1;35m      0_th Trader\u001b[0m\u001b[1;35m \u001b[0m┃\u001b[1;35m \u001b[0m\u001b[1;35m  Value\u001b[0m\u001b[1;35m \u001b[0m┃\n",
       "┡━━━━━━━━━━━━━━━━━━━╇━━━━━━━━━┩\n",
       "│      Total Return │ 198.53% │\n",
       "│ Buy & Hold Return │ 176.37% │\n",
       "│        Init Value │    1.00 │\n",
       "│     Current Value │    2.99 │\n",
       "└───────────────────┴─────────┘\n"
      ]
     },
     "metadata": {},
     "output_type": "display_data"
    },
    {
     "name": "stdout",
     "output_type": "stream",
     "text": [
      "Bought futu on 2020-01-24 at 11.05\n",
      "Sold futu on 2020-03-19 at 8.77, Return Rate: -20.57%, Hold Duration: 55 days\n",
      "\n",
      "Bought futu on 2020-06-11 at 18.16\n",
      "Sold futu on 2021-07-26 at 115.44, Return Rate: 534.08%, Hold Duration: 410 days\n",
      "\n",
      "Bought futu on 2022-06-13 at 41.51\n",
      "Sold futu on 2022-09-27 at 38.11, Return Rate: -8.17%, Hold Duration: 106 days\n",
      "\n",
      "Bought futu on 2022-12-16 at 66.47\n",
      "Sold futu on 2023-02-23 at 44.81, Return Rate: -32.49%, Hold Duration: 69 days\n",
      "\n",
      "Bought futu on 2023-03-09 at 45.95\n",
      "Sold futu on 2023-05-08 at 41.26, Return Rate: -10.18%, Hold Duration: 60 days\n",
      "\n"
     ]
    },
    {
     "data": {
      "text/html": [
       "<pre style=\"white-space:pre;overflow-x:auto;line-height:normal;font-family:Menlo,'DejaVu Sans Mono',consolas,'Courier New',monospace\">┏━━━━━━━━━━━━┳━━━━━━━━━━━━┳━━━━━━━━━━━━┳━━━━━━━━━━━┳━━━━━━━━━━━━┳━━━━━━━━━━━━━┳━━━━━━━━━━━━━━━┓\n",
       "┃<span style=\"color: #800080; text-decoration-color: #800080; font-weight: bold\"> Stock Name </span>┃<span style=\"color: #800080; text-decoration-color: #800080; font-weight: bold\">   Buy Date </span>┃<span style=\"color: #800080; text-decoration-color: #800080; font-weight: bold\">  Sell Date </span>┃<span style=\"color: #800080; text-decoration-color: #800080; font-weight: bold\"> Buy Price </span>┃<span style=\"color: #800080; text-decoration-color: #800080; font-weight: bold\"> Sell Price </span>┃<span style=\"color: #800080; text-decoration-color: #800080; font-weight: bold\"> Return Rate </span>┃<span style=\"color: #800080; text-decoration-color: #800080; font-weight: bold\"> Hold Duration </span>┃\n",
       "┡━━━━━━━━━━━━╇━━━━━━━━━━━━╇━━━━━━━━━━━━╇━━━━━━━━━━━╇━━━━━━━━━━━━╇━━━━━━━━━━━━━╇━━━━━━━━━━━━━━━┩\n",
       "│       futu │ 2020-01-24 │ 2020-03-19 │     11.05 │       8.77 │     <span style=\"color: #800000; text-decoration-color: #800000; font-weight: bold\">-20.57%</span> │            55 │\n",
       "│       futu │ 2020-06-11 │ 2021-07-26 │     18.16 │     115.44 │     <span style=\"color: #008000; text-decoration-color: #008000; font-weight: bold\">534.08%</span> │           410 │\n",
       "│       futu │ 2022-06-13 │ 2022-09-27 │     41.51 │      38.11 │      <span style=\"color: #800000; text-decoration-color: #800000\">-8.17%</span> │           106 │\n",
       "│       futu │ 2022-12-16 │ 2023-02-23 │     66.47 │      44.81 │     <span style=\"color: #800000; text-decoration-color: #800000; font-weight: bold\">-32.49%</span> │            69 │\n",
       "│       futu │ 2023-03-09 │ 2023-05-08 │     45.95 │      41.26 │     <span style=\"color: #800000; text-decoration-color: #800000; font-weight: bold\">-10.18%</span> │            60 │\n",
       "└────────────┴────────────┴────────────┴───────────┴────────────┴─────────────┴───────────────┘\n",
       "</pre>\n"
      ],
      "text/plain": [
       "┏━━━━━━━━━━━━┳━━━━━━━━━━━━┳━━━━━━━━━━━━┳━━━━━━━━━━━┳━━━━━━━━━━━━┳━━━━━━━━━━━━━┳━━━━━━━━━━━━━━━┓\n",
       "┃\u001b[1;35m \u001b[0m\u001b[1;35mStock Name\u001b[0m\u001b[1;35m \u001b[0m┃\u001b[1;35m \u001b[0m\u001b[1;35m  Buy Date\u001b[0m\u001b[1;35m \u001b[0m┃\u001b[1;35m \u001b[0m\u001b[1;35m Sell Date\u001b[0m\u001b[1;35m \u001b[0m┃\u001b[1;35m \u001b[0m\u001b[1;35mBuy Price\u001b[0m\u001b[1;35m \u001b[0m┃\u001b[1;35m \u001b[0m\u001b[1;35mSell Price\u001b[0m\u001b[1;35m \u001b[0m┃\u001b[1;35m \u001b[0m\u001b[1;35mReturn Rate\u001b[0m\u001b[1;35m \u001b[0m┃\u001b[1;35m \u001b[0m\u001b[1;35mHold Duration\u001b[0m\u001b[1;35m \u001b[0m┃\n",
       "┡━━━━━━━━━━━━╇━━━━━━━━━━━━╇━━━━━━━━━━━━╇━━━━━━━━━━━╇━━━━━━━━━━━━╇━━━━━━━━━━━━━╇━━━━━━━━━━━━━━━┩\n",
       "│       futu │ 2020-01-24 │ 2020-03-19 │     11.05 │       8.77 │     \u001b[1;31m-20.57%\u001b[0m │            55 │\n",
       "│       futu │ 2020-06-11 │ 2021-07-26 │     18.16 │     115.44 │     \u001b[1;32m534.08%\u001b[0m │           410 │\n",
       "│       futu │ 2022-06-13 │ 2022-09-27 │     41.51 │      38.11 │      \u001b[31m-8.17%\u001b[0m │           106 │\n",
       "│       futu │ 2022-12-16 │ 2023-02-23 │     66.47 │      44.81 │     \u001b[1;31m-32.49%\u001b[0m │            69 │\n",
       "│       futu │ 2023-03-09 │ 2023-05-08 │     45.95 │      41.26 │     \u001b[1;31m-10.18%\u001b[0m │            60 │\n",
       "└────────────┴────────────┴────────────┴───────────┴────────────┴─────────────┴───────────────┘\n"
      ]
     },
     "metadata": {},
     "output_type": "display_data"
    },
    {
     "data": {
      "text/html": [
       "<pre style=\"white-space:pre;overflow-x:auto;line-height:normal;font-family:Menlo,'DejaVu Sans Mono',consolas,'Courier New',monospace\">┏━━━━━━━━━━━━━━━━━━━┳━━━━━━━━━┓\n",
       "┃<span style=\"color: #800080; text-decoration-color: #800080; font-weight: bold\">       0_th Trader </span>┃<span style=\"color: #800080; text-decoration-color: #800080; font-weight: bold\">   Value </span>┃\n",
       "┡━━━━━━━━━━━━━━━━━━━╇━━━━━━━━━┩\n",
       "│      Total Return │ 180.47% │\n",
       "│ Buy &amp; Hold Return │ 176.37% │\n",
       "│        Init Value │    1.00 │\n",
       "│     Current Value │    2.80 │\n",
       "└───────────────────┴─────────┘\n",
       "</pre>\n"
      ],
      "text/plain": [
       "┏━━━━━━━━━━━━━━━━━━━┳━━━━━━━━━┓\n",
       "┃\u001b[1;35m \u001b[0m\u001b[1;35m      0_th Trader\u001b[0m\u001b[1;35m \u001b[0m┃\u001b[1;35m \u001b[0m\u001b[1;35m  Value\u001b[0m\u001b[1;35m \u001b[0m┃\n",
       "┡━━━━━━━━━━━━━━━━━━━╇━━━━━━━━━┩\n",
       "│      Total Return │ 180.47% │\n",
       "│ Buy & Hold Return │ 176.37% │\n",
       "│        Init Value │    1.00 │\n",
       "│     Current Value │    2.80 │\n",
       "└───────────────────┴─────────┘\n"
      ]
     },
     "metadata": {},
     "output_type": "display_data"
    },
    {
     "name": "stdout",
     "output_type": "stream",
     "text": [
      "Bought futu on 2020-01-24 at 11.05\n",
      "Sold futu on 2020-03-19 at 8.77, Return Rate: -20.57%, Hold Duration: 55 days\n",
      "\n",
      "Bought futu on 2020-06-11 at 18.16\n",
      "Sold futu on 2021-09-16 at 94.71, Return Rate: 420.27%, Hold Duration: 462 days\n",
      "\n",
      "Bought futu on 2022-07-07 at 52.20\n",
      "Sold futu on 2022-09-29 at 36.40, Return Rate: -30.18%, Hold Duration: 84 days\n",
      "\n",
      "Bought futu on 2022-12-16 at 66.47\n",
      "Sold futu on 2023-06-21 at 39.90, Return Rate: -39.85%, Hold Duration: 187 days\n",
      "\n"
     ]
    },
    {
     "data": {
      "text/html": [
       "<pre style=\"white-space:pre;overflow-x:auto;line-height:normal;font-family:Menlo,'DejaVu Sans Mono',consolas,'Courier New',monospace\">┏━━━━━━━━━━━━┳━━━━━━━━━━━━┳━━━━━━━━━━━━┳━━━━━━━━━━━┳━━━━━━━━━━━━┳━━━━━━━━━━━━━┳━━━━━━━━━━━━━━━┓\n",
       "┃<span style=\"color: #800080; text-decoration-color: #800080; font-weight: bold\"> Stock Name </span>┃<span style=\"color: #800080; text-decoration-color: #800080; font-weight: bold\">   Buy Date </span>┃<span style=\"color: #800080; text-decoration-color: #800080; font-weight: bold\">  Sell Date </span>┃<span style=\"color: #800080; text-decoration-color: #800080; font-weight: bold\"> Buy Price </span>┃<span style=\"color: #800080; text-decoration-color: #800080; font-weight: bold\"> Sell Price </span>┃<span style=\"color: #800080; text-decoration-color: #800080; font-weight: bold\"> Return Rate </span>┃<span style=\"color: #800080; text-decoration-color: #800080; font-weight: bold\"> Hold Duration </span>┃\n",
       "┡━━━━━━━━━━━━╇━━━━━━━━━━━━╇━━━━━━━━━━━━╇━━━━━━━━━━━╇━━━━━━━━━━━━╇━━━━━━━━━━━━━╇━━━━━━━━━━━━━━━┩\n",
       "│       futu │ 2020-01-24 │ 2020-03-19 │     11.05 │       8.77 │     <span style=\"color: #800000; text-decoration-color: #800000; font-weight: bold\">-20.57%</span> │            55 │\n",
       "│       futu │ 2020-06-11 │ 2021-09-16 │     18.16 │      94.71 │     <span style=\"color: #008000; text-decoration-color: #008000; font-weight: bold\">420.27%</span> │           462 │\n",
       "│       futu │ 2022-07-07 │ 2022-09-29 │      52.2 │       36.4 │     <span style=\"color: #800000; text-decoration-color: #800000; font-weight: bold\">-30.18%</span> │            84 │\n",
       "│       futu │ 2022-12-16 │ 2023-06-21 │     66.47 │       39.9 │     <span style=\"color: #800000; text-decoration-color: #800000; font-weight: bold\">-39.85%</span> │           187 │\n",
       "└────────────┴────────────┴────────────┴───────────┴────────────┴─────────────┴───────────────┘\n",
       "</pre>\n"
      ],
      "text/plain": [
       "┏━━━━━━━━━━━━┳━━━━━━━━━━━━┳━━━━━━━━━━━━┳━━━━━━━━━━━┳━━━━━━━━━━━━┳━━━━━━━━━━━━━┳━━━━━━━━━━━━━━━┓\n",
       "┃\u001b[1;35m \u001b[0m\u001b[1;35mStock Name\u001b[0m\u001b[1;35m \u001b[0m┃\u001b[1;35m \u001b[0m\u001b[1;35m  Buy Date\u001b[0m\u001b[1;35m \u001b[0m┃\u001b[1;35m \u001b[0m\u001b[1;35m Sell Date\u001b[0m\u001b[1;35m \u001b[0m┃\u001b[1;35m \u001b[0m\u001b[1;35mBuy Price\u001b[0m\u001b[1;35m \u001b[0m┃\u001b[1;35m \u001b[0m\u001b[1;35mSell Price\u001b[0m\u001b[1;35m \u001b[0m┃\u001b[1;35m \u001b[0m\u001b[1;35mReturn Rate\u001b[0m\u001b[1;35m \u001b[0m┃\u001b[1;35m \u001b[0m\u001b[1;35mHold Duration\u001b[0m\u001b[1;35m \u001b[0m┃\n",
       "┡━━━━━━━━━━━━╇━━━━━━━━━━━━╇━━━━━━━━━━━━╇━━━━━━━━━━━╇━━━━━━━━━━━━╇━━━━━━━━━━━━━╇━━━━━━━━━━━━━━━┩\n",
       "│       futu │ 2020-01-24 │ 2020-03-19 │     11.05 │       8.77 │     \u001b[1;31m-20.57%\u001b[0m │            55 │\n",
       "│       futu │ 2020-06-11 │ 2021-09-16 │     18.16 │      94.71 │     \u001b[1;32m420.27%\u001b[0m │           462 │\n",
       "│       futu │ 2022-07-07 │ 2022-09-29 │      52.2 │       36.4 │     \u001b[1;31m-30.18%\u001b[0m │            84 │\n",
       "│       futu │ 2022-12-16 │ 2023-06-21 │     66.47 │       39.9 │     \u001b[1;31m-39.85%\u001b[0m │           187 │\n",
       "└────────────┴────────────┴────────────┴───────────┴────────────┴─────────────┴───────────────┘\n"
      ]
     },
     "metadata": {},
     "output_type": "display_data"
    },
    {
     "data": {
      "text/html": [
       "<pre style=\"white-space:pre;overflow-x:auto;line-height:normal;font-family:Menlo,'DejaVu Sans Mono',consolas,'Courier New',monospace\">┏━━━━━━━━━━━━━━━━━━━┳━━━━━━━━━┓\n",
       "┃<span style=\"color: #800080; text-decoration-color: #800080; font-weight: bold\">       0_th Trader </span>┃<span style=\"color: #800080; text-decoration-color: #800080; font-weight: bold\">   Value </span>┃\n",
       "┡━━━━━━━━━━━━━━━━━━━╇━━━━━━━━━┩\n",
       "│      Total Return │  73.54% │\n",
       "│ Buy &amp; Hold Return │ 176.37% │\n",
       "│        Init Value │    1.00 │\n",
       "│     Current Value │    1.74 │\n",
       "└───────────────────┴─────────┘\n",
       "</pre>\n"
      ],
      "text/plain": [
       "┏━━━━━━━━━━━━━━━━━━━┳━━━━━━━━━┓\n",
       "┃\u001b[1;35m \u001b[0m\u001b[1;35m      0_th Trader\u001b[0m\u001b[1;35m \u001b[0m┃\u001b[1;35m \u001b[0m\u001b[1;35m  Value\u001b[0m\u001b[1;35m \u001b[0m┃\n",
       "┡━━━━━━━━━━━━━━━━━━━╇━━━━━━━━━┩\n",
       "│      Total Return │  73.54% │\n",
       "│ Buy & Hold Return │ 176.37% │\n",
       "│        Init Value │    1.00 │\n",
       "│     Current Value │    1.74 │\n",
       "└───────────────────┴─────────┘\n"
      ]
     },
     "metadata": {},
     "output_type": "display_data"
    },
    {
     "name": "stdout",
     "output_type": "stream",
     "text": [
      "Bought futu on 2020-02-24 at 12.00\n",
      "Sold futu on 2020-03-19 at 8.77, Return Rate: -26.84%, Hold Duration: 24 days\n",
      "\n",
      "Bought futu on 2020-06-11 at 18.16\n",
      "Sold futu on 2021-10-06 at 83.39, Return Rate: 358.12%, Hold Duration: 482 days\n",
      "\n",
      "Bought futu on 2022-09-06 at 43.72\n",
      "Sold futu on 2022-09-28 at 38.58, Return Rate: -11.72%, Hold Duration: 22 days\n",
      "\n",
      "Bought futu on 2022-12-16 at 66.47\n",
      "Sold futu on 2023-03-17 at 45.07, Return Rate: -32.10%, Hold Duration: 91 days\n",
      "\n",
      "Bought futu on 2023-04-05 at 48.30\n",
      "Sold futu on 2023-05-16 at 41.24, Return Rate: -14.57%, Hold Duration: 41 days\n",
      "\n"
     ]
    },
    {
     "data": {
      "text/html": [
       "<pre style=\"white-space:pre;overflow-x:auto;line-height:normal;font-family:Menlo,'DejaVu Sans Mono',consolas,'Courier New',monospace\">┏━━━━━━━━━━━━┳━━━━━━━━━━━━┳━━━━━━━━━━━━┳━━━━━━━━━━━┳━━━━━━━━━━━━┳━━━━━━━━━━━━━┳━━━━━━━━━━━━━━━┓\n",
       "┃<span style=\"color: #800080; text-decoration-color: #800080; font-weight: bold\"> Stock Name </span>┃<span style=\"color: #800080; text-decoration-color: #800080; font-weight: bold\">   Buy Date </span>┃<span style=\"color: #800080; text-decoration-color: #800080; font-weight: bold\">  Sell Date </span>┃<span style=\"color: #800080; text-decoration-color: #800080; font-weight: bold\"> Buy Price </span>┃<span style=\"color: #800080; text-decoration-color: #800080; font-weight: bold\"> Sell Price </span>┃<span style=\"color: #800080; text-decoration-color: #800080; font-weight: bold\"> Return Rate </span>┃<span style=\"color: #800080; text-decoration-color: #800080; font-weight: bold\"> Hold Duration </span>┃\n",
       "┡━━━━━━━━━━━━╇━━━━━━━━━━━━╇━━━━━━━━━━━━╇━━━━━━━━━━━╇━━━━━━━━━━━━╇━━━━━━━━━━━━━╇━━━━━━━━━━━━━━━┩\n",
       "│       futu │ 2020-02-24 │ 2020-03-19 │      12.0 │       8.77 │     <span style=\"color: #800000; text-decoration-color: #800000; font-weight: bold\">-26.84%</span> │            24 │\n",
       "│       futu │ 2020-06-11 │ 2021-10-06 │     18.16 │      83.39 │     <span style=\"color: #008000; text-decoration-color: #008000; font-weight: bold\">358.12%</span> │           482 │\n",
       "│       futu │ 2022-09-06 │ 2022-09-28 │     43.72 │      38.58 │     <span style=\"color: #800000; text-decoration-color: #800000; font-weight: bold\">-11.72%</span> │            22 │\n",
       "│       futu │ 2022-12-16 │ 2023-03-17 │     66.47 │      45.07 │     <span style=\"color: #800000; text-decoration-color: #800000; font-weight: bold\">-32.10%</span> │            91 │\n",
       "│       futu │ 2023-04-05 │ 2023-05-16 │      48.3 │      41.24 │     <span style=\"color: #800000; text-decoration-color: #800000; font-weight: bold\">-14.57%</span> │            41 │\n",
       "└────────────┴────────────┴────────────┴───────────┴────────────┴─────────────┴───────────────┘\n",
       "</pre>\n"
      ],
      "text/plain": [
       "┏━━━━━━━━━━━━┳━━━━━━━━━━━━┳━━━━━━━━━━━━┳━━━━━━━━━━━┳━━━━━━━━━━━━┳━━━━━━━━━━━━━┳━━━━━━━━━━━━━━━┓\n",
       "┃\u001b[1;35m \u001b[0m\u001b[1;35mStock Name\u001b[0m\u001b[1;35m \u001b[0m┃\u001b[1;35m \u001b[0m\u001b[1;35m  Buy Date\u001b[0m\u001b[1;35m \u001b[0m┃\u001b[1;35m \u001b[0m\u001b[1;35m Sell Date\u001b[0m\u001b[1;35m \u001b[0m┃\u001b[1;35m \u001b[0m\u001b[1;35mBuy Price\u001b[0m\u001b[1;35m \u001b[0m┃\u001b[1;35m \u001b[0m\u001b[1;35mSell Price\u001b[0m\u001b[1;35m \u001b[0m┃\u001b[1;35m \u001b[0m\u001b[1;35mReturn Rate\u001b[0m\u001b[1;35m \u001b[0m┃\u001b[1;35m \u001b[0m\u001b[1;35mHold Duration\u001b[0m\u001b[1;35m \u001b[0m┃\n",
       "┡━━━━━━━━━━━━╇━━━━━━━━━━━━╇━━━━━━━━━━━━╇━━━━━━━━━━━╇━━━━━━━━━━━━╇━━━━━━━━━━━━━╇━━━━━━━━━━━━━━━┩\n",
       "│       futu │ 2020-02-24 │ 2020-03-19 │      12.0 │       8.77 │     \u001b[1;31m-26.84%\u001b[0m │            24 │\n",
       "│       futu │ 2020-06-11 │ 2021-10-06 │     18.16 │      83.39 │     \u001b[1;32m358.12%\u001b[0m │           482 │\n",
       "│       futu │ 2022-09-06 │ 2022-09-28 │     43.72 │      38.58 │     \u001b[1;31m-11.72%\u001b[0m │            22 │\n",
       "│       futu │ 2022-12-16 │ 2023-03-17 │     66.47 │      45.07 │     \u001b[1;31m-32.10%\u001b[0m │            91 │\n",
       "│       futu │ 2023-04-05 │ 2023-05-16 │      48.3 │      41.24 │     \u001b[1;31m-14.57%\u001b[0m │            41 │\n",
       "└────────────┴────────────┴────────────┴───────────┴────────────┴─────────────┴───────────────┘\n"
      ]
     },
     "metadata": {},
     "output_type": "display_data"
    },
    {
     "data": {
      "text/html": [
       "<pre style=\"white-space:pre;overflow-x:auto;line-height:normal;font-family:Menlo,'DejaVu Sans Mono',consolas,'Courier New',monospace\">┏━━━━━━━━━━━━━━━━━━━┳━━━━━━━━━┓\n",
       "┃<span style=\"color: #800080; text-decoration-color: #800080; font-weight: bold\">       0_th Trader </span>┃<span style=\"color: #800080; text-decoration-color: #800080; font-weight: bold\">   Value </span>┃\n",
       "┡━━━━━━━━━━━━━━━━━━━╇━━━━━━━━━┩\n",
       "│      Total Return │  71.64% │\n",
       "│ Buy &amp; Hold Return │ 176.37% │\n",
       "│        Init Value │    1.00 │\n",
       "│     Current Value │    1.72 │\n",
       "└───────────────────┴─────────┘\n",
       "</pre>\n"
      ],
      "text/plain": [
       "┏━━━━━━━━━━━━━━━━━━━┳━━━━━━━━━┓\n",
       "┃\u001b[1;35m \u001b[0m\u001b[1;35m      0_th Trader\u001b[0m\u001b[1;35m \u001b[0m┃\u001b[1;35m \u001b[0m\u001b[1;35m  Value\u001b[0m\u001b[1;35m \u001b[0m┃\n",
       "┡━━━━━━━━━━━━━━━━━━━╇━━━━━━━━━┩\n",
       "│      Total Return │  71.64% │\n",
       "│ Buy & Hold Return │ 176.37% │\n",
       "│        Init Value │    1.00 │\n",
       "│     Current Value │    1.72 │\n",
       "└───────────────────┴─────────┘\n"
      ]
     },
     "metadata": {},
     "output_type": "display_data"
    },
    {
     "name": "stdout",
     "output_type": "stream",
     "text": [
      "Bought futu on 2020-06-11 at 18.16\n",
      "Sold futu on 2021-11-05 at 56.49, Return Rate: 210.44%, Hold Duration: 512 days\n",
      "\n",
      "Bought futu on 2022-12-16 at 66.47\n",
      "Sold futu on 2023-04-25 at 42.93, Return Rate: -35.31%, Hold Duration: 130 days\n",
      "\n"
     ]
    },
    {
     "data": {
      "text/html": [
       "<pre style=\"white-space:pre;overflow-x:auto;line-height:normal;font-family:Menlo,'DejaVu Sans Mono',consolas,'Courier New',monospace\">┏━━━━━━━━━━━━┳━━━━━━━━━━━━┳━━━━━━━━━━━━┳━━━━━━━━━━━┳━━━━━━━━━━━━┳━━━━━━━━━━━━━┳━━━━━━━━━━━━━━━┓\n",
       "┃<span style=\"color: #800080; text-decoration-color: #800080; font-weight: bold\"> Stock Name </span>┃<span style=\"color: #800080; text-decoration-color: #800080; font-weight: bold\">   Buy Date </span>┃<span style=\"color: #800080; text-decoration-color: #800080; font-weight: bold\">  Sell Date </span>┃<span style=\"color: #800080; text-decoration-color: #800080; font-weight: bold\"> Buy Price </span>┃<span style=\"color: #800080; text-decoration-color: #800080; font-weight: bold\"> Sell Price </span>┃<span style=\"color: #800080; text-decoration-color: #800080; font-weight: bold\"> Return Rate </span>┃<span style=\"color: #800080; text-decoration-color: #800080; font-weight: bold\"> Hold Duration </span>┃\n",
       "┡━━━━━━━━━━━━╇━━━━━━━━━━━━╇━━━━━━━━━━━━╇━━━━━━━━━━━╇━━━━━━━━━━━━╇━━━━━━━━━━━━━╇━━━━━━━━━━━━━━━┩\n",
       "│       futu │ 2020-06-11 │ 2021-11-05 │     18.16 │      56.49 │     <span style=\"color: #008000; text-decoration-color: #008000; font-weight: bold\">210.44%</span> │           512 │\n",
       "│       futu │ 2022-12-16 │ 2023-04-25 │     66.47 │      42.93 │     <span style=\"color: #800000; text-decoration-color: #800000; font-weight: bold\">-35.31%</span> │           130 │\n",
       "└────────────┴────────────┴────────────┴───────────┴────────────┴─────────────┴───────────────┘\n",
       "</pre>\n"
      ],
      "text/plain": [
       "┏━━━━━━━━━━━━┳━━━━━━━━━━━━┳━━━━━━━━━━━━┳━━━━━━━━━━━┳━━━━━━━━━━━━┳━━━━━━━━━━━━━┳━━━━━━━━━━━━━━━┓\n",
       "┃\u001b[1;35m \u001b[0m\u001b[1;35mStock Name\u001b[0m\u001b[1;35m \u001b[0m┃\u001b[1;35m \u001b[0m\u001b[1;35m  Buy Date\u001b[0m\u001b[1;35m \u001b[0m┃\u001b[1;35m \u001b[0m\u001b[1;35m Sell Date\u001b[0m\u001b[1;35m \u001b[0m┃\u001b[1;35m \u001b[0m\u001b[1;35mBuy Price\u001b[0m\u001b[1;35m \u001b[0m┃\u001b[1;35m \u001b[0m\u001b[1;35mSell Price\u001b[0m\u001b[1;35m \u001b[0m┃\u001b[1;35m \u001b[0m\u001b[1;35mReturn Rate\u001b[0m\u001b[1;35m \u001b[0m┃\u001b[1;35m \u001b[0m\u001b[1;35mHold Duration\u001b[0m\u001b[1;35m \u001b[0m┃\n",
       "┡━━━━━━━━━━━━╇━━━━━━━━━━━━╇━━━━━━━━━━━━╇━━━━━━━━━━━╇━━━━━━━━━━━━╇━━━━━━━━━━━━━╇━━━━━━━━━━━━━━━┩\n",
       "│       futu │ 2020-06-11 │ 2021-11-05 │     18.16 │      56.49 │     \u001b[1;32m210.44%\u001b[0m │           512 │\n",
       "│       futu │ 2022-12-16 │ 2023-04-25 │     66.47 │      42.93 │     \u001b[1;31m-35.31%\u001b[0m │           130 │\n",
       "└────────────┴────────────┴────────────┴───────────┴────────────┴─────────────┴───────────────┘\n"
      ]
     },
     "metadata": {},
     "output_type": "display_data"
    },
    {
     "data": {
      "text/html": [
       "<pre style=\"white-space:pre;overflow-x:auto;line-height:normal;font-family:Menlo,'DejaVu Sans Mono',consolas,'Courier New',monospace\">┏━━━━━━━━━━━━━━━━━━━┳━━━━━━━━━┓\n",
       "┃<span style=\"color: #800080; text-decoration-color: #800080; font-weight: bold\">       0_th Trader </span>┃<span style=\"color: #800080; text-decoration-color: #800080; font-weight: bold\">   Value </span>┃\n",
       "┡━━━━━━━━━━━━━━━━━━━╇━━━━━━━━━┩\n",
       "│      Total Return │ 100.83% │\n",
       "│ Buy &amp; Hold Return │ 176.37% │\n",
       "│        Init Value │    1.00 │\n",
       "│     Current Value │    2.01 │\n",
       "└───────────────────┴─────────┘\n",
       "</pre>\n"
      ],
      "text/plain": [
       "┏━━━━━━━━━━━━━━━━━━━┳━━━━━━━━━┓\n",
       "┃\u001b[1;35m \u001b[0m\u001b[1;35m      0_th Trader\u001b[0m\u001b[1;35m \u001b[0m┃\u001b[1;35m \u001b[0m\u001b[1;35m  Value\u001b[0m\u001b[1;35m \u001b[0m┃\n",
       "┡━━━━━━━━━━━━━━━━━━━╇━━━━━━━━━┩\n",
       "│      Total Return │ 100.83% │\n",
       "│ Buy & Hold Return │ 176.37% │\n",
       "│        Init Value │    1.00 │\n",
       "│     Current Value │    2.01 │\n",
       "└───────────────────┴─────────┘\n"
      ]
     },
     "metadata": {},
     "output_type": "display_data"
    },
    {
     "name": "stdout",
     "output_type": "stream",
     "text": [
      "Bought futu on 2020-06-11 at 18.16\n",
      "Sold futu on 2021-12-02 at 41.29, Return Rate: 126.99%, Hold Duration: 539 days\n",
      "\n",
      "Bought futu on 2022-12-16 at 66.47\n",
      "Sold futu on 2023-05-19 at 38.09, Return Rate: -42.57%, Hold Duration: 154 days\n",
      "\n"
     ]
    },
    {
     "data": {
      "text/html": [
       "<pre style=\"white-space:pre;overflow-x:auto;line-height:normal;font-family:Menlo,'DejaVu Sans Mono',consolas,'Courier New',monospace\">┏━━━━━━━━━━━━┳━━━━━━━━━━━━┳━━━━━━━━━━━━┳━━━━━━━━━━━┳━━━━━━━━━━━━┳━━━━━━━━━━━━━┳━━━━━━━━━━━━━━━┓\n",
       "┃<span style=\"color: #800080; text-decoration-color: #800080; font-weight: bold\"> Stock Name </span>┃<span style=\"color: #800080; text-decoration-color: #800080; font-weight: bold\">   Buy Date </span>┃<span style=\"color: #800080; text-decoration-color: #800080; font-weight: bold\">  Sell Date </span>┃<span style=\"color: #800080; text-decoration-color: #800080; font-weight: bold\"> Buy Price </span>┃<span style=\"color: #800080; text-decoration-color: #800080; font-weight: bold\"> Sell Price </span>┃<span style=\"color: #800080; text-decoration-color: #800080; font-weight: bold\"> Return Rate </span>┃<span style=\"color: #800080; text-decoration-color: #800080; font-weight: bold\"> Hold Duration </span>┃\n",
       "┡━━━━━━━━━━━━╇━━━━━━━━━━━━╇━━━━━━━━━━━━╇━━━━━━━━━━━╇━━━━━━━━━━━━╇━━━━━━━━━━━━━╇━━━━━━━━━━━━━━━┩\n",
       "│       futu │ 2020-06-11 │ 2021-12-02 │     18.16 │      41.29 │     <span style=\"color: #008000; text-decoration-color: #008000; font-weight: bold\">126.99%</span> │           539 │\n",
       "│       futu │ 2022-12-16 │ 2023-05-19 │     66.47 │      38.09 │     <span style=\"color: #800000; text-decoration-color: #800000; font-weight: bold\">-42.57%</span> │           154 │\n",
       "└────────────┴────────────┴────────────┴───────────┴────────────┴─────────────┴───────────────┘\n",
       "</pre>\n"
      ],
      "text/plain": [
       "┏━━━━━━━━━━━━┳━━━━━━━━━━━━┳━━━━━━━━━━━━┳━━━━━━━━━━━┳━━━━━━━━━━━━┳━━━━━━━━━━━━━┳━━━━━━━━━━━━━━━┓\n",
       "┃\u001b[1;35m \u001b[0m\u001b[1;35mStock Name\u001b[0m\u001b[1;35m \u001b[0m┃\u001b[1;35m \u001b[0m\u001b[1;35m  Buy Date\u001b[0m\u001b[1;35m \u001b[0m┃\u001b[1;35m \u001b[0m\u001b[1;35m Sell Date\u001b[0m\u001b[1;35m \u001b[0m┃\u001b[1;35m \u001b[0m\u001b[1;35mBuy Price\u001b[0m\u001b[1;35m \u001b[0m┃\u001b[1;35m \u001b[0m\u001b[1;35mSell Price\u001b[0m\u001b[1;35m \u001b[0m┃\u001b[1;35m \u001b[0m\u001b[1;35mReturn Rate\u001b[0m\u001b[1;35m \u001b[0m┃\u001b[1;35m \u001b[0m\u001b[1;35mHold Duration\u001b[0m\u001b[1;35m \u001b[0m┃\n",
       "┡━━━━━━━━━━━━╇━━━━━━━━━━━━╇━━━━━━━━━━━━╇━━━━━━━━━━━╇━━━━━━━━━━━━╇━━━━━━━━━━━━━╇━━━━━━━━━━━━━━━┩\n",
       "│       futu │ 2020-06-11 │ 2021-12-02 │     18.16 │      41.29 │     \u001b[1;32m126.99%\u001b[0m │           539 │\n",
       "│       futu │ 2022-12-16 │ 2023-05-19 │     66.47 │      38.09 │     \u001b[1;31m-42.57%\u001b[0m │           154 │\n",
       "└────────────┴────────────┴────────────┴───────────┴────────────┴─────────────┴───────────────┘\n"
      ]
     },
     "metadata": {},
     "output_type": "display_data"
    },
    {
     "data": {
      "text/html": [
       "<pre style=\"white-space:pre;overflow-x:auto;line-height:normal;font-family:Menlo,'DejaVu Sans Mono',consolas,'Courier New',monospace\">┏━━━━━━━━━━━━━━━━━━━┳━━━━━━━━━┓\n",
       "┃<span style=\"color: #800080; text-decoration-color: #800080; font-weight: bold\">       0_th Trader </span>┃<span style=\"color: #800080; text-decoration-color: #800080; font-weight: bold\">   Value </span>┃\n",
       "┡━━━━━━━━━━━━━━━━━━━╇━━━━━━━━━┩\n",
       "│      Total Return │  30.36% │\n",
       "│ Buy &amp; Hold Return │ 176.37% │\n",
       "│        Init Value │    1.00 │\n",
       "│     Current Value │    1.30 │\n",
       "└───────────────────┴─────────┘\n",
       "</pre>\n"
      ],
      "text/plain": [
       "┏━━━━━━━━━━━━━━━━━━━┳━━━━━━━━━┓\n",
       "┃\u001b[1;35m \u001b[0m\u001b[1;35m      0_th Trader\u001b[0m\u001b[1;35m \u001b[0m┃\u001b[1;35m \u001b[0m\u001b[1;35m  Value\u001b[0m\u001b[1;35m \u001b[0m┃\n",
       "┡━━━━━━━━━━━━━━━━━━━╇━━━━━━━━━┩\n",
       "│      Total Return │  30.36% │\n",
       "│ Buy & Hold Return │ 176.37% │\n",
       "│        Init Value │    1.00 │\n",
       "│     Current Value │    1.30 │\n",
       "└───────────────────┴─────────┘\n"
      ]
     },
     "metadata": {},
     "output_type": "display_data"
    },
    {
     "name": "stdout",
     "output_type": "stream",
     "text": [
      "Bought futu on 2020-06-11 at 18.16\n",
      "Sold futu on 2021-12-13 at 41.70, Return Rate: 129.24%, Hold Duration: 550 days\n",
      "\n",
      "Bought futu on 2022-12-16 at 66.47\n",
      "Sold futu on 2023-07-06 at 39.83, Return Rate: -39.96%, Hold Duration: 202 days\n",
      "\n"
     ]
    },
    {
     "data": {
      "text/html": [
       "<pre style=\"white-space:pre;overflow-x:auto;line-height:normal;font-family:Menlo,'DejaVu Sans Mono',consolas,'Courier New',monospace\">┏━━━━━━━━━━━━┳━━━━━━━━━━━━┳━━━━━━━━━━━━┳━━━━━━━━━━━┳━━━━━━━━━━━━┳━━━━━━━━━━━━━┳━━━━━━━━━━━━━━━┓\n",
       "┃<span style=\"color: #800080; text-decoration-color: #800080; font-weight: bold\"> Stock Name </span>┃<span style=\"color: #800080; text-decoration-color: #800080; font-weight: bold\">   Buy Date </span>┃<span style=\"color: #800080; text-decoration-color: #800080; font-weight: bold\">  Sell Date </span>┃<span style=\"color: #800080; text-decoration-color: #800080; font-weight: bold\"> Buy Price </span>┃<span style=\"color: #800080; text-decoration-color: #800080; font-weight: bold\"> Sell Price </span>┃<span style=\"color: #800080; text-decoration-color: #800080; font-weight: bold\"> Return Rate </span>┃<span style=\"color: #800080; text-decoration-color: #800080; font-weight: bold\"> Hold Duration </span>┃\n",
       "┡━━━━━━━━━━━━╇━━━━━━━━━━━━╇━━━━━━━━━━━━╇━━━━━━━━━━━╇━━━━━━━━━━━━╇━━━━━━━━━━━━━╇━━━━━━━━━━━━━━━┩\n",
       "│       futu │ 2020-06-11 │ 2021-12-13 │     18.16 │       41.7 │     <span style=\"color: #008000; text-decoration-color: #008000; font-weight: bold\">129.24%</span> │           550 │\n",
       "│       futu │ 2022-12-16 │ 2023-07-06 │     66.47 │      39.83 │     <span style=\"color: #800000; text-decoration-color: #800000; font-weight: bold\">-39.96%</span> │           202 │\n",
       "└────────────┴────────────┴────────────┴───────────┴────────────┴─────────────┴───────────────┘\n",
       "</pre>\n"
      ],
      "text/plain": [
       "┏━━━━━━━━━━━━┳━━━━━━━━━━━━┳━━━━━━━━━━━━┳━━━━━━━━━━━┳━━━━━━━━━━━━┳━━━━━━━━━━━━━┳━━━━━━━━━━━━━━━┓\n",
       "┃\u001b[1;35m \u001b[0m\u001b[1;35mStock Name\u001b[0m\u001b[1;35m \u001b[0m┃\u001b[1;35m \u001b[0m\u001b[1;35m  Buy Date\u001b[0m\u001b[1;35m \u001b[0m┃\u001b[1;35m \u001b[0m\u001b[1;35m Sell Date\u001b[0m\u001b[1;35m \u001b[0m┃\u001b[1;35m \u001b[0m\u001b[1;35mBuy Price\u001b[0m\u001b[1;35m \u001b[0m┃\u001b[1;35m \u001b[0m\u001b[1;35mSell Price\u001b[0m\u001b[1;35m \u001b[0m┃\u001b[1;35m \u001b[0m\u001b[1;35mReturn Rate\u001b[0m\u001b[1;35m \u001b[0m┃\u001b[1;35m \u001b[0m\u001b[1;35mHold Duration\u001b[0m\u001b[1;35m \u001b[0m┃\n",
       "┡━━━━━━━━━━━━╇━━━━━━━━━━━━╇━━━━━━━━━━━━╇━━━━━━━━━━━╇━━━━━━━━━━━━╇━━━━━━━━━━━━━╇━━━━━━━━━━━━━━━┩\n",
       "│       futu │ 2020-06-11 │ 2021-12-13 │     18.16 │       41.7 │     \u001b[1;32m129.24%\u001b[0m │           550 │\n",
       "│       futu │ 2022-12-16 │ 2023-07-06 │     66.47 │      39.83 │     \u001b[1;31m-39.96%\u001b[0m │           202 │\n",
       "└────────────┴────────────┴────────────┴───────────┴────────────┴─────────────┴───────────────┘\n"
      ]
     },
     "metadata": {},
     "output_type": "display_data"
    },
    {
     "data": {
      "text/html": [
       "<pre style=\"white-space:pre;overflow-x:auto;line-height:normal;font-family:Menlo,'DejaVu Sans Mono',consolas,'Courier New',monospace\">┏━━━━━━━━━━━━━━━━━━━┳━━━━━━━━━┓\n",
       "┃<span style=\"color: #800080; text-decoration-color: #800080; font-weight: bold\">       0_th Trader </span>┃<span style=\"color: #800080; text-decoration-color: #800080; font-weight: bold\">   Value </span>┃\n",
       "┡━━━━━━━━━━━━━━━━━━━╇━━━━━━━━━┩\n",
       "│      Total Return │  37.64% │\n",
       "│ Buy &amp; Hold Return │ 176.37% │\n",
       "│        Init Value │    1.00 │\n",
       "│     Current Value │    1.38 │\n",
       "└───────────────────┴─────────┘\n",
       "</pre>\n"
      ],
      "text/plain": [
       "┏━━━━━━━━━━━━━━━━━━━┳━━━━━━━━━┓\n",
       "┃\u001b[1;35m \u001b[0m\u001b[1;35m      0_th Trader\u001b[0m\u001b[1;35m \u001b[0m┃\u001b[1;35m \u001b[0m\u001b[1;35m  Value\u001b[0m\u001b[1;35m \u001b[0m┃\n",
       "┡━━━━━━━━━━━━━━━━━━━╇━━━━━━━━━┩\n",
       "│      Total Return │  37.64% │\n",
       "│ Buy & Hold Return │ 176.37% │\n",
       "│        Init Value │    1.00 │\n",
       "│     Current Value │    1.38 │\n",
       "└───────────────────┴─────────┘\n"
      ]
     },
     "metadata": {},
     "output_type": "display_data"
    },
    {
     "ename": "KeyboardInterrupt",
     "evalue": "",
     "output_type": "error",
     "traceback": [
      "\u001b[0;31m---------------------------------------------------------------------------\u001b[0m",
      "\u001b[0;31mKeyboardInterrupt\u001b[0m                         Traceback (most recent call last)",
      "Cell \u001b[0;32mIn[82], line 1\u001b[0m\n\u001b[0;32m----> 1\u001b[0m m2_nas100 \u001b[38;5;241m=\u001b[39m \u001b[43mmain\u001b[49m\u001b[43m(\u001b[49m\u001b[38;5;124;43m'\u001b[39;49m\u001b[38;5;124;43mstock_data/futu.csv\u001b[39;49m\u001b[38;5;124;43m'\u001b[39;49m\u001b[43m)\u001b[49m\n",
      "Cell \u001b[0;32mIn[78], line 70\u001b[0m, in \u001b[0;36mmain\u001b[0;34m(files_path)\u001b[0m\n\u001b[1;32m     68\u001b[0m stocks_data \u001b[38;5;241m=\u001b[39m {}\n\u001b[1;32m     69\u001b[0m \u001b[38;5;28;01mif\u001b[39;00m files_path\u001b[38;5;241m.\u001b[39mendswith(\u001b[38;5;124m'\u001b[39m\u001b[38;5;124m.csv\u001b[39m\u001b[38;5;124m'\u001b[39m):\n\u001b[0;32m---> 70\u001b[0m     data \u001b[38;5;241m=\u001b[39m \u001b[43mPrepareData\u001b[49m\u001b[43m(\u001b[49m\u001b[43mfiles_path\u001b[49m\u001b[43m)\u001b[49m\u001b[38;5;241m.\u001b[39mdata\n\u001b[1;32m     71\u001b[0m     data[\u001b[38;5;124m'\u001b[39m\u001b[38;5;124m10MA\u001b[39m\u001b[38;5;124m'\u001b[39m] \u001b[38;5;241m=\u001b[39m data[\u001b[38;5;124m'\u001b[39m\u001b[38;5;124mClose\u001b[39m\u001b[38;5;124m'\u001b[39m]\u001b[38;5;241m.\u001b[39mrolling(window\u001b[38;5;241m=\u001b[39mi)\u001b[38;5;241m.\u001b[39mmean()\n\u001b[1;32m     72\u001b[0m     data[\u001b[38;5;124m'\u001b[39m\u001b[38;5;124m30MA\u001b[39m\u001b[38;5;124m'\u001b[39m] \u001b[38;5;241m=\u001b[39m data[\u001b[38;5;124m'\u001b[39m\u001b[38;5;124mClose\u001b[39m\u001b[38;5;124m'\u001b[39m]\u001b[38;5;241m.\u001b[39mrolling(window\u001b[38;5;241m=\u001b[39mj)\u001b[38;5;241m.\u001b[39mmean()\n",
      "File \u001b[0;32m~/Documents/financial_scripts/Stock_Trading_Simulation/src/prepare_data.py:5\u001b[0m, in \u001b[0;36mPrepareData.__init__\u001b[0;34m(self, file_path)\u001b[0m\n\u001b[1;32m      4\u001b[0m \u001b[38;5;28;01mdef\u001b[39;00m \u001b[38;5;21m__init__\u001b[39m(\u001b[38;5;28mself\u001b[39m, file_path):\n\u001b[0;32m----> 5\u001b[0m     \u001b[38;5;28mself\u001b[39m\u001b[38;5;241m.\u001b[39mdata \u001b[38;5;241m=\u001b[39m \u001b[38;5;28;43mself\u001b[39;49m\u001b[38;5;241;43m.\u001b[39;49m\u001b[43mread_and_preprocess_data\u001b[49m\u001b[43m(\u001b[49m\u001b[43mfile_path\u001b[49m\u001b[43m)\u001b[49m\n",
      "File \u001b[0;32m~/Documents/financial_scripts/Stock_Trading_Simulation/src/prepare_data.py:66\u001b[0m, in \u001b[0;36mPrepareData.read_and_preprocess_data\u001b[0;34m(self, file_path)\u001b[0m\n\u001b[1;32m     64\u001b[0m \u001b[38;5;66;03m# Add 'score' column and calculate scores for each row\u001b[39;00m\n\u001b[1;32m     65\u001b[0m data[\u001b[38;5;124m'\u001b[39m\u001b[38;5;124mscore\u001b[39m\u001b[38;5;124m'\u001b[39m] \u001b[38;5;241m=\u001b[39m data\u001b[38;5;241m.\u001b[39mapply(\u001b[38;5;28mself\u001b[39m\u001b[38;5;241m.\u001b[39mcalculate_score, axis\u001b[38;5;241m=\u001b[39m\u001b[38;5;241m1\u001b[39m)\n\u001b[0;32m---> 66\u001b[0m data[\u001b[38;5;124m'\u001b[39m\u001b[38;5;124mgrowth_rate\u001b[39m\u001b[38;5;124m'\u001b[39m] \u001b[38;5;241m=\u001b[39m \u001b[43mdata\u001b[49m\u001b[38;5;241;43m.\u001b[39;49m\u001b[43mapply\u001b[49m\u001b[43m(\u001b[49m\u001b[38;5;28;43mself\u001b[39;49m\u001b[38;5;241;43m.\u001b[39;49m\u001b[43mcalculate_growth_rate\u001b[49m\u001b[43m,\u001b[49m\u001b[43m \u001b[49m\u001b[43maxis\u001b[49m\u001b[38;5;241;43m=\u001b[39;49m\u001b[38;5;241;43m1\u001b[39;49m\u001b[43m)\u001b[49m\n\u001b[1;32m     68\u001b[0m data[\u001b[38;5;124m'\u001b[39m\u001b[38;5;124mdate\u001b[39m\u001b[38;5;124m'\u001b[39m] \u001b[38;5;241m=\u001b[39m pd\u001b[38;5;241m.\u001b[39mto_datetime(data[\u001b[38;5;124m'\u001b[39m\u001b[38;5;124mdate\u001b[39m\u001b[38;5;124m'\u001b[39m])\n\u001b[1;32m     69\u001b[0m data\u001b[38;5;241m.\u001b[39mset_index(\u001b[38;5;124m'\u001b[39m\u001b[38;5;124mdate\u001b[39m\u001b[38;5;124m'\u001b[39m, inplace\u001b[38;5;241m=\u001b[39m\u001b[38;5;28;01mTrue\u001b[39;00m)\n",
      "File \u001b[0;32m~/miniconda3/lib/python3.10/site-packages/pandas/core/frame.py:9568\u001b[0m, in \u001b[0;36mDataFrame.apply\u001b[0;34m(self, func, axis, raw, result_type, args, **kwargs)\u001b[0m\n\u001b[1;32m   9557\u001b[0m \u001b[38;5;28;01mfrom\u001b[39;00m \u001b[38;5;21;01mpandas\u001b[39;00m\u001b[38;5;21;01m.\u001b[39;00m\u001b[38;5;21;01mcore\u001b[39;00m\u001b[38;5;21;01m.\u001b[39;00m\u001b[38;5;21;01mapply\u001b[39;00m \u001b[38;5;28;01mimport\u001b[39;00m frame_apply\n\u001b[1;32m   9559\u001b[0m op \u001b[38;5;241m=\u001b[39m frame_apply(\n\u001b[1;32m   9560\u001b[0m     \u001b[38;5;28mself\u001b[39m,\n\u001b[1;32m   9561\u001b[0m     func\u001b[38;5;241m=\u001b[39mfunc,\n\u001b[0;32m   (...)\u001b[0m\n\u001b[1;32m   9566\u001b[0m     kwargs\u001b[38;5;241m=\u001b[39mkwargs,\n\u001b[1;32m   9567\u001b[0m )\n\u001b[0;32m-> 9568\u001b[0m \u001b[38;5;28;01mreturn\u001b[39;00m \u001b[43mop\u001b[49m\u001b[38;5;241;43m.\u001b[39;49m\u001b[43mapply\u001b[49m\u001b[43m(\u001b[49m\u001b[43m)\u001b[49m\u001b[38;5;241m.\u001b[39m__finalize__(\u001b[38;5;28mself\u001b[39m, method\u001b[38;5;241m=\u001b[39m\u001b[38;5;124m\"\u001b[39m\u001b[38;5;124mapply\u001b[39m\u001b[38;5;124m\"\u001b[39m)\n",
      "File \u001b[0;32m~/miniconda3/lib/python3.10/site-packages/pandas/core/apply.py:764\u001b[0m, in \u001b[0;36mFrameApply.apply\u001b[0;34m(self)\u001b[0m\n\u001b[1;32m    761\u001b[0m \u001b[38;5;28;01melif\u001b[39;00m \u001b[38;5;28mself\u001b[39m\u001b[38;5;241m.\u001b[39mraw:\n\u001b[1;32m    762\u001b[0m     \u001b[38;5;28;01mreturn\u001b[39;00m \u001b[38;5;28mself\u001b[39m\u001b[38;5;241m.\u001b[39mapply_raw()\n\u001b[0;32m--> 764\u001b[0m \u001b[38;5;28;01mreturn\u001b[39;00m \u001b[38;5;28;43mself\u001b[39;49m\u001b[38;5;241;43m.\u001b[39;49m\u001b[43mapply_standard\u001b[49m\u001b[43m(\u001b[49m\u001b[43m)\u001b[49m\n",
      "File \u001b[0;32m~/miniconda3/lib/python3.10/site-packages/pandas/core/apply.py:891\u001b[0m, in \u001b[0;36mFrameApply.apply_standard\u001b[0;34m(self)\u001b[0m\n\u001b[1;32m    890\u001b[0m \u001b[38;5;28;01mdef\u001b[39;00m \u001b[38;5;21mapply_standard\u001b[39m(\u001b[38;5;28mself\u001b[39m):\n\u001b[0;32m--> 891\u001b[0m     results, res_index \u001b[38;5;241m=\u001b[39m \u001b[38;5;28;43mself\u001b[39;49m\u001b[38;5;241;43m.\u001b[39;49m\u001b[43mapply_series_generator\u001b[49m\u001b[43m(\u001b[49m\u001b[43m)\u001b[49m\n\u001b[1;32m    893\u001b[0m     \u001b[38;5;66;03m# wrap results\u001b[39;00m\n\u001b[1;32m    894\u001b[0m     \u001b[38;5;28;01mreturn\u001b[39;00m \u001b[38;5;28mself\u001b[39m\u001b[38;5;241m.\u001b[39mwrap_results(results, res_index)\n",
      "File \u001b[0;32m~/miniconda3/lib/python3.10/site-packages/pandas/core/apply.py:907\u001b[0m, in \u001b[0;36mFrameApply.apply_series_generator\u001b[0;34m(self)\u001b[0m\n\u001b[1;32m    904\u001b[0m \u001b[38;5;28;01mwith\u001b[39;00m option_context(\u001b[38;5;124m\"\u001b[39m\u001b[38;5;124mmode.chained_assignment\u001b[39m\u001b[38;5;124m\"\u001b[39m, \u001b[38;5;28;01mNone\u001b[39;00m):\n\u001b[1;32m    905\u001b[0m     \u001b[38;5;28;01mfor\u001b[39;00m i, v \u001b[38;5;129;01min\u001b[39;00m \u001b[38;5;28menumerate\u001b[39m(series_gen):\n\u001b[1;32m    906\u001b[0m         \u001b[38;5;66;03m# ignore SettingWithCopy here in case the user mutates\u001b[39;00m\n\u001b[0;32m--> 907\u001b[0m         results[i] \u001b[38;5;241m=\u001b[39m \u001b[38;5;28;43mself\u001b[39;49m\u001b[38;5;241;43m.\u001b[39;49m\u001b[43mf\u001b[49m\u001b[43m(\u001b[49m\u001b[43mv\u001b[49m\u001b[43m)\u001b[49m\n\u001b[1;32m    908\u001b[0m         \u001b[38;5;28;01mif\u001b[39;00m \u001b[38;5;28misinstance\u001b[39m(results[i], ABCSeries):\n\u001b[1;32m    909\u001b[0m             \u001b[38;5;66;03m# If we have a view on v, we need to make a copy because\u001b[39;00m\n\u001b[1;32m    910\u001b[0m             \u001b[38;5;66;03m#  series_generator will swap out the underlying data\u001b[39;00m\n\u001b[1;32m    911\u001b[0m             results[i] \u001b[38;5;241m=\u001b[39m results[i]\u001b[38;5;241m.\u001b[39mcopy(deep\u001b[38;5;241m=\u001b[39m\u001b[38;5;28;01mFalse\u001b[39;00m)\n",
      "File \u001b[0;32m~/Documents/financial_scripts/Stock_Trading_Simulation/src/prepare_data.py:26\u001b[0m, in \u001b[0;36mPrepareData.calculate_growth_rate\u001b[0;34m(self, row)\u001b[0m\n\u001b[1;32m     25\u001b[0m \u001b[38;5;28;01mdef\u001b[39;00m \u001b[38;5;21mcalculate_growth_rate\u001b[39m(\u001b[38;5;28mself\u001b[39m, row):\n\u001b[0;32m---> 26\u001b[0m     growth_rate \u001b[38;5;241m=\u001b[39m (\u001b[38;5;28;43mround\u001b[39;49m\u001b[43m(\u001b[49m\u001b[43mrow\u001b[49m\u001b[43m[\u001b[49m\u001b[38;5;124;43m'\u001b[39;49m\u001b[38;5;124;43mClose\u001b[39;49m\u001b[38;5;124;43m'\u001b[39;49m\u001b[43m]\u001b[49m\u001b[38;5;241;43m/\u001b[39;49m\u001b[43mrow\u001b[49m\u001b[43m[\u001b[49m\u001b[38;5;124;43m'\u001b[39;49m\u001b[38;5;124;43mOpen\u001b[39;49m\u001b[38;5;124;43m'\u001b[39;49m\u001b[43m]\u001b[49m\u001b[43m,\u001b[49m\u001b[43m \u001b[49m\u001b[38;5;241;43m4\u001b[39;49m\u001b[43m)\u001b[49m \u001b[38;5;241m-\u001b[39m \u001b[38;5;241m1\u001b[39m)\u001b[38;5;241m*\u001b[39m\u001b[38;5;241m100\u001b[39m\n\u001b[1;32m     27\u001b[0m     \u001b[38;5;28;01mreturn\u001b[39;00m growth_rate\n",
      "\u001b[0;31mKeyboardInterrupt\u001b[0m: "
     ]
    }
   ],
   "source": [
    "m2_nas100 = main('stock_data/futu.csv')"
   ]
  },
  {
   "cell_type": "code",
   "execution_count": null,
   "id": "83117070",
   "metadata": {},
   "outputs": [],
   "source": []
  },
  {
   "cell_type": "code",
   "execution_count": null,
   "id": "7b950816",
   "metadata": {},
   "outputs": [],
   "source": []
  },
  {
   "cell_type": "code",
   "execution_count": 48,
   "id": "d297cf80",
   "metadata": {},
   "outputs": [
    {
     "data": {
      "image/png": "[encoded data removed]",
      "text/plain": [
       "<Figure size 640x480 with 2 Axes>"
      ]
     },
     "metadata": {},
     "output_type": "display_data"
    }
   ],
   "source": [
    "show_fig((m_dongfang + m_li + m_nas100 + m_ximenzi + m_apple + m_ali)/6, \"SUM\")"
   ]
  },
  {
   "cell_type": "code",
   "execution_count": null,
   "id": "85dfab13",
   "metadata": {},
   "outputs": [],
   "source": []
  },
  {
   "cell_type": "code",
   "execution_count": 55,
   "id": "59192e44",
   "metadata": {},
   "outputs": [
    {
     "data": {
      "image/png": "[encoded data removed]",
      "text/plain": [
       "<Figure size 640x480 with 2 Axes>"
      ]
     },
     "metadata": {},
     "output_type": "display_data"
    }
   ],
   "source": [
    "show_fig(m_all, 'ALL')"
   ]
  },
  {
   "cell_type": "code",
   "execution_count": 52,
   "id": "8b53b9d6",
   "metadata": {},
   "outputs": [
    {
     "data": {
      "text/plain": [
       "array([  -64.76,    51.68,  1544.54, 22091.6 ,  8729.4 ,  1226.43,\n",
       "         890.32,   733.57,   383.31,   299.66,   259.7 ,   275.07,\n",
       "         202.73])"
      ]
     },
     "execution_count": 52,
     "metadata": {},
     "output_type": "execute_result"
    }
   ],
   "source": [
    "m_all[3,:]"
   ]
  },
  {
   "cell_type": "code",
   "execution_count": 58,
   "id": "930bb504",
   "metadata": {},
   "outputs": [
    {
     "data": {
      "text/plain": [
       "array([-1.721000e+01,  1.157100e+02,  1.880580e+03,  1.819483e+04,\n",
       "        8.222240e+03,  9.442100e+02,  4.679500e+02,  3.091400e+02,\n",
       "        3.633700e+02,  2.124500e+02,  1.912900e+02,  1.988300e+02,\n",
       "        1.424900e+02])"
      ]
     },
     "execution_count": 58,
     "metadata": {},
     "output_type": "execute_result"
    }
   ],
   "source": [
    "m_all[4,:]"
   ]
  },
  {
   "cell_type": "code",
   "execution_count": 91,
   "id": "e6976fa8",
   "metadata": {},
   "outputs": [
    {
     "name": "stdout",
     "output_type": "stream",
     "text": [
      "年复合收益率是 38.09%\n"
     ]
    }
   ],
   "source": [
    "def calculate_annual_compound_return(days, total_return_percent):\n",
    "    years = days / 365  # 将天数转换为年数\n",
    "    total_return = total_return_percent / 100  # 将总收益率转换为小数\n",
    "    annual_compound_return = (total_return + 1) ** (1/years) - 1\n",
    "    return annual_compound_return\n",
    "\n",
    "# 使用函数\n",
    "days = 720\n",
    "total_return_percent = 89\n",
    "annual_compound_return = calculate_annual_compound_return(days, total_return_percent)\n",
    "print(f\"年复合收益率是 {annual_compound_return:.2%}\")"
   ]
  },
  {
   "cell_type": "code",
   "execution_count": null,
   "id": "fb00b0c6",
   "metadata": {},
   "outputs": [],
   "source": []
  },
  {
   "cell_type": "code",
   "execution_count": 96,
   "id": "aedf78e1",
   "metadata": {},
   "outputs": [
    {
     "name": "stdout",
     "output_type": "stream",
     "text": [
      "Keys: <KeysViewHDF5 ['data']>\n"
     ]
    }
   ],
   "source": [
    "import h5py\n",
    "filename = \"/Users/han/Downloads/stock_daily-19940523-20230630.h5\"\n",
    "\n",
    "with h5py.File(filename, \"r\") as f:\n",
    "    # Print all root level object names (aka keys) \n",
    "    # these can be group or dataset names \n",
    "    print(\"Keys: %s\" % f.keys())\n",
    "    # get first object name/key; may or may NOT be a group\n",
    "#     a_group_key = list(f.keys())[0]\n",
    "\n",
    "#     # get the object type for a_group_key: usually group or dataset\n",
    "#     print(type(f[a_group_key])) \n",
    "\n",
    "#     # If a_group_key is a group name, \n",
    "#     # this gets the object names in the group and returns as a list\n",
    "#     data = list(f[a_group_key])\n",
    "\n",
    "#     # If a_group_key is a dataset name, \n",
    "#     # this gets the dataset values and returns as a list\n",
    "#     data = list(f[a_group_key])\n",
    "#     # preferred methods to get dataset values:\n",
    "#     ds_obj = f[a_group_key]      # returns as a h5py dataset object\n",
    "#     ds_arr = f[a_group_key][()]  # returns as a numpy array"
   ]
  },
  {
   "cell_type": "code",
   "execution_count": 180,
   "id": "95155336",
   "metadata": {},
   "outputs": [],
   "source": [
    "import pandas as pd\n",
    "\n",
    "filename = \"/Users/han/Documents/financial_scripts/Stock_Trading_Simulation/stock_daily-19940523-20230630.h5\"\n",
    "data = pd.read_hdf(filename)\n",
    "\n",
    "# print(data.head())\n"
   ]
  },
  {
   "cell_type": "code",
   "execution_count": 181,
   "id": "7295fec6",
   "metadata": {},
   "outputs": [],
   "source": [
    "def calculate_adj_price(df):\n",
    "    price_columns = ['openPrice', 'highestPrice', 'lowestPrice', 'closePrice']\n",
    "#     for col in price_columns:\n",
    "    df['Open'] = df['openPrice'] * df['accumAdjFactor']\n",
    "    df['High'] = df['highestPrice'] * df['accumAdjFactor']\n",
    "    df['Low'] = df['lowestPrice'] * df['accumAdjFactor']\n",
    "    df['Close'] = df['closePrice'] * df['accumAdjFactor']\n",
    "    return df\n",
    "\n",
    "\n",
    "def process_df(df):\n",
    "    # 将tradeDate转换为日期格式\n",
    "    df['date'] = pd.to_datetime(df['tradeDate'])\n",
    "    df.drop('tradeDate', axis=1, inplace=True)\n",
    "    # 将tradeDate设置为索引\n",
    "    df.set_index('date', inplace=True)\n",
    "    # 按照'secShortName'进行分组，并转换为字典\n",
    "    result = {name: calculate_adj_price(group.sort_index()) for name, group in df.groupby('secShortName')}\n",
    "    return result\n"
   ]
  },
  {
   "cell_type": "code",
   "execution_count": 182,
   "id": "ed11d763",
   "metadata": {},
   "outputs": [],
   "source": [
    "out = process_df(data)"
   ]
  },
  {
   "cell_type": "code",
   "execution_count": null,
   "id": "328da2fe",
   "metadata": {},
   "outputs": [],
   "source": []
  },
  {
   "cell_type": "code",
   "execution_count": 254,
   "id": "d863c557",
   "metadata": {},
   "outputs": [],
   "source": [
    "import pickle\n",
    "\n",
    "with open('stock_daily-19940523-20230630_2.pkl', 'wb') as f:\n",
    "    pickle.dump(df, f)\n"
   ]
  },
  {
   "cell_type": "code",
   "execution_count": null,
   "id": "7c4aec91",
   "metadata": {},
   "outputs": [],
   "source": []
  },
  {
   "cell_type": "code",
   "execution_count": 255,
   "id": "352cb8ef",
   "metadata": {},
   "outputs": [
    {
     "data": {
      "text/plain": [
       "'*ST一纺'"
      ]
     },
     "execution_count": 255,
     "metadata": {},
     "output_type": "execute_result"
    }
   ],
   "source": [
    "list(df.keys())[2]"
   ]
  },
  {
   "cell_type": "code",
   "execution_count": null,
   "id": "5b1a0965",
   "metadata": {},
   "outputs": [],
   "source": []
  },
  {
   "cell_type": "code",
   "execution_count": 262,
   "id": "bad097d6",
   "metadata": {},
   "outputs": [
    {
     "ename": "AttributeError",
     "evalue": "'PrepareData' object has no attribute 'stock_data'",
     "output_type": "error",
     "traceback": [
      "\u001b[0;31m---------------------------------------------------------------------------\u001b[0m",
      "\u001b[0;31mAttributeError\u001b[0m                            Traceback (most recent call last)",
      "Cell \u001b[0;32mIn[262], line 1\u001b[0m\n\u001b[0;32m----> 1\u001b[0m data \u001b[38;5;241m=\u001b[39m \u001b[43mPrepareData\u001b[49m\u001b[43m(\u001b[49m\u001b[38;5;124;43m'\u001b[39;49m\u001b[38;5;124;43mstock_daily-19940523-20230630_2.pkl\u001b[39;49m\u001b[38;5;124;43m'\u001b[39;49m\u001b[43m)\u001b[49m\u001b[38;5;241;43m.\u001b[39;49m\u001b[43mstock_data\u001b[49m\n",
      "\u001b[0;31mAttributeError\u001b[0m: 'PrepareData' object has no attribute 'stock_data'"
     ]
    }
   ],
   "source": [
    "data = PrepareData('stock_daily-19940523-20230630_2.pkl').stock_data"
   ]
  },
  {
   "cell_type": "code",
   "execution_count": null,
   "id": "ae623692",
   "metadata": {},
   "outputs": [],
   "source": [
    "data.keys()"
   ]
  },
  {
   "cell_type": "code",
   "execution_count": 260,
   "id": "2d0dddec",
   "metadata": {},
   "outputs": [
    {
     "ename": "TypeError",
     "evalue": "'PrepareData' object is not subscriptable",
     "output_type": "error",
     "traceback": [
      "\u001b[0;31m---------------------------------------------------------------------------\u001b[0m",
      "\u001b[0;31mTypeError\u001b[0m                                 Traceback (most recent call last)",
      "Cell \u001b[0;32mIn[260], line 1\u001b[0m\n\u001b[0;32m----> 1\u001b[0m \u001b[43mdata\u001b[49m\u001b[43m[\u001b[49m\u001b[38;5;124;43m'\u001b[39;49m\u001b[38;5;124;43m招商银行\u001b[39;49m\u001b[38;5;124;43m'\u001b[39;49m\u001b[43m]\u001b[49m\n",
      "\u001b[0;31mTypeError\u001b[0m: 'PrepareData' object is not subscriptable"
     ]
    }
   ],
   "source": [
    "data['招商银行']"
   ]
  },
  {
   "cell_type": "code",
   "execution_count": 252,
   "id": "38df45cd",
   "metadata": {},
   "outputs": [],
   "source": [
    "import pickle\n",
    "\n",
    "with open('stock_daily-19940523-20230630.pkl', 'rb') as f:\n",
    "    df = pickle.load(f)\n",
    "    \n",
    "    \n"
   ]
  },
  {
   "cell_type": "code",
   "execution_count": 244,
   "id": "7fa89587",
   "metadata": {},
   "outputs": [],
   "source": [
    "from tqdm import tqdm"
   ]
  },
  {
   "cell_type": "code",
   "execution_count": 253,
   "id": "93866c9f",
   "metadata": {},
   "outputs": [
    {
     "name": "stderr",
     "output_type": "stream",
     "text": [
      "100%|████████████████████████████████████████████████████████████████████████| 10560/10560 [1:22:09<00:00,  2.14it/s]\n"
     ]
    }
   ],
   "source": [
    "for key in tqdm(df):\n",
    "    df[key] = read_and_preprocess_data(df[key])\n",
    "#     break"
   ]
  },
  {
   "cell_type": "code",
   "execution_count": null,
   "id": "887cc291",
   "metadata": {},
   "outputs": [],
   "source": []
  },
  {
   "cell_type": "code",
   "execution_count": 256,
   "id": "a863212e",
   "metadata": {},
   "outputs": [
    {
     "data": {
      "text/html": [
       "<div>\n",
       "<style scoped>\n",
       "    .dataframe tbody tr th:only-of-type {\n",
       "        vertical-align: middle;\n",
       "    }\n",
       "\n",
       "    .dataframe tbody tr th {\n",
       "        vertical-align: top;\n",
       "    }\n",
       "\n",
       "    .dataframe thead th {\n",
       "        text-align: right;\n",
       "    }\n",
       "</style>\n",
       "<table border=\"1\" class=\"dataframe\">\n",
       "  <thead>\n",
       "    <tr style=\"text-align: right;\">\n",
       "      <th></th>\n",
       "      <th>secID</th>\n",
       "      <th>ticker</th>\n",
       "      <th>secShortName</th>\n",
       "      <th>exchangeCD</th>\n",
       "      <th>preClosePrice</th>\n",
       "      <th>actPreClosePrice</th>\n",
       "      <th>openPrice</th>\n",
       "      <th>highestPrice</th>\n",
       "      <th>lowestPrice</th>\n",
       "      <th>closePrice</th>\n",
       "      <th>...</th>\n",
       "      <th>High</th>\n",
       "      <th>Low</th>\n",
       "      <th>Close</th>\n",
       "      <th>10MA</th>\n",
       "      <th>30MA</th>\n",
       "      <th>60MA</th>\n",
       "      <th>New_Open</th>\n",
       "      <th>New_High</th>\n",
       "      <th>New_Low</th>\n",
       "      <th>New_Close</th>\n",
       "    </tr>\n",
       "    <tr>\n",
       "      <th>date</th>\n",
       "      <th></th>\n",
       "      <th></th>\n",
       "      <th></th>\n",
       "      <th></th>\n",
       "      <th></th>\n",
       "      <th></th>\n",
       "      <th></th>\n",
       "      <th></th>\n",
       "      <th></th>\n",
       "      <th></th>\n",
       "      <th></th>\n",
       "      <th></th>\n",
       "      <th></th>\n",
       "      <th></th>\n",
       "      <th></th>\n",
       "      <th></th>\n",
       "      <th></th>\n",
       "      <th></th>\n",
       "      <th></th>\n",
       "      <th></th>\n",
       "      <th></th>\n",
       "    </tr>\n",
       "  </thead>\n",
       "  <tbody>\n",
       "    <tr>\n",
       "      <th>2002-04-09</th>\n",
       "      <td>600036.XSHG</td>\n",
       "      <td>600036</td>\n",
       "      <td>招商银行</td>\n",
       "      <td>XSHG</td>\n",
       "      <td>7.30</td>\n",
       "      <td>7.30</td>\n",
       "      <td>10.51</td>\n",
       "      <td>10.88</td>\n",
       "      <td>10.51</td>\n",
       "      <td>10.66</td>\n",
       "      <td>...</td>\n",
       "      <td>2.009684</td>\n",
       "      <td>1.941340</td>\n",
       "      <td>1.969047</td>\n",
       "      <td>NaN</td>\n",
       "      <td>NaN</td>\n",
       "      <td>NaN</td>\n",
       "      <td>1.941340</td>\n",
       "      <td>2.009684</td>\n",
       "      <td>1.941340</td>\n",
       "      <td>1.969047</td>\n",
       "    </tr>\n",
       "    <tr>\n",
       "      <th>2002-04-10</th>\n",
       "      <td>600036.XSHG</td>\n",
       "      <td>600036</td>\n",
       "      <td>招商银行</td>\n",
       "      <td>XSHG</td>\n",
       "      <td>10.66</td>\n",
       "      <td>10.66</td>\n",
       "      <td>10.66</td>\n",
       "      <td>10.70</td>\n",
       "      <td>10.39</td>\n",
       "      <td>10.60</td>\n",
       "      <td>...</td>\n",
       "      <td>1.976436</td>\n",
       "      <td>1.919175</td>\n",
       "      <td>1.957964</td>\n",
       "      <td>NaN</td>\n",
       "      <td>NaN</td>\n",
       "      <td>NaN</td>\n",
       "      <td>1.955194</td>\n",
       "      <td>1.976436</td>\n",
       "      <td>1.919175</td>\n",
       "      <td>1.955656</td>\n",
       "    </tr>\n",
       "    <tr>\n",
       "      <th>2002-04-11</th>\n",
       "      <td>600036.XSHG</td>\n",
       "      <td>600036</td>\n",
       "      <td>招商银行</td>\n",
       "      <td>XSHG</td>\n",
       "      <td>10.60</td>\n",
       "      <td>10.60</td>\n",
       "      <td>10.60</td>\n",
       "      <td>10.68</td>\n",
       "      <td>10.49</td>\n",
       "      <td>10.52</td>\n",
       "      <td>...</td>\n",
       "      <td>1.972742</td>\n",
       "      <td>1.937646</td>\n",
       "      <td>1.943187</td>\n",
       "      <td>NaN</td>\n",
       "      <td>NaN</td>\n",
       "      <td>NaN</td>\n",
       "      <td>1.955425</td>\n",
       "      <td>1.972742</td>\n",
       "      <td>1.937646</td>\n",
       "      <td>1.952885</td>\n",
       "    </tr>\n",
       "    <tr>\n",
       "      <th>2002-04-12</th>\n",
       "      <td>600036.XSHG</td>\n",
       "      <td>600036</td>\n",
       "      <td>招商银行</td>\n",
       "      <td>XSHG</td>\n",
       "      <td>10.52</td>\n",
       "      <td>10.52</td>\n",
       "      <td>10.50</td>\n",
       "      <td>10.64</td>\n",
       "      <td>10.48</td>\n",
       "      <td>10.57</td>\n",
       "      <td>...</td>\n",
       "      <td>1.965353</td>\n",
       "      <td>1.935799</td>\n",
       "      <td>1.952423</td>\n",
       "      <td>NaN</td>\n",
       "      <td>NaN</td>\n",
       "      <td>NaN</td>\n",
       "      <td>1.954155</td>\n",
       "      <td>1.965353</td>\n",
       "      <td>1.935799</td>\n",
       "      <td>1.948267</td>\n",
       "    </tr>\n",
       "    <tr>\n",
       "      <th>2002-04-15</th>\n",
       "      <td>600036.XSHG</td>\n",
       "      <td>600036</td>\n",
       "      <td>招商银行</td>\n",
       "      <td>XSHG</td>\n",
       "      <td>10.57</td>\n",
       "      <td>10.57</td>\n",
       "      <td>10.57</td>\n",
       "      <td>10.60</td>\n",
       "      <td>10.35</td>\n",
       "      <td>10.39</td>\n",
       "      <td>...</td>\n",
       "      <td>1.957964</td>\n",
       "      <td>1.911786</td>\n",
       "      <td>1.919175</td>\n",
       "      <td>NaN</td>\n",
       "      <td>NaN</td>\n",
       "      <td>NaN</td>\n",
       "      <td>1.951211</td>\n",
       "      <td>1.957964</td>\n",
       "      <td>1.911786</td>\n",
       "      <td>1.935337</td>\n",
       "    </tr>\n",
       "    <tr>\n",
       "      <th>...</th>\n",
       "      <td>...</td>\n",
       "      <td>...</td>\n",
       "      <td>...</td>\n",
       "      <td>...</td>\n",
       "      <td>...</td>\n",
       "      <td>...</td>\n",
       "      <td>...</td>\n",
       "      <td>...</td>\n",
       "      <td>...</td>\n",
       "      <td>...</td>\n",
       "      <td>...</td>\n",
       "      <td>...</td>\n",
       "      <td>...</td>\n",
       "      <td>...</td>\n",
       "      <td>...</td>\n",
       "      <td>...</td>\n",
       "      <td>...</td>\n",
       "      <td>...</td>\n",
       "      <td>...</td>\n",
       "      <td>...</td>\n",
       "      <td>...</td>\n",
       "    </tr>\n",
       "    <tr>\n",
       "      <th>2023-06-26</th>\n",
       "      <td>600036.XSHG</td>\n",
       "      <td>600036</td>\n",
       "      <td>招商银行</td>\n",
       "      <td>XSHG</td>\n",
       "      <td>33.17</td>\n",
       "      <td>33.17</td>\n",
       "      <td>32.93</td>\n",
       "      <td>33.10</td>\n",
       "      <td>32.42</td>\n",
       "      <td>32.61</td>\n",
       "      <td>...</td>\n",
       "      <td>33.100000</td>\n",
       "      <td>32.420000</td>\n",
       "      <td>32.610000</td>\n",
       "      <td>33.479</td>\n",
       "      <td>34.740222</td>\n",
       "      <td>33.887500</td>\n",
       "      <td>33.381161</td>\n",
       "      <td>33.381161</td>\n",
       "      <td>32.420000</td>\n",
       "      <td>32.765000</td>\n",
       "    </tr>\n",
       "    <tr>\n",
       "      <th>2023-06-27</th>\n",
       "      <td>600036.XSHG</td>\n",
       "      <td>600036</td>\n",
       "      <td>招商银行</td>\n",
       "      <td>XSHG</td>\n",
       "      <td>32.61</td>\n",
       "      <td>32.61</td>\n",
       "      <td>32.63</td>\n",
       "      <td>33.01</td>\n",
       "      <td>32.44</td>\n",
       "      <td>32.82</td>\n",
       "      <td>...</td>\n",
       "      <td>33.010000</td>\n",
       "      <td>32.440000</td>\n",
       "      <td>32.820000</td>\n",
       "      <td>33.387</td>\n",
       "      <td>34.685778</td>\n",
       "      <td>33.864333</td>\n",
       "      <td>33.073080</td>\n",
       "      <td>33.073080</td>\n",
       "      <td>32.440000</td>\n",
       "      <td>32.725000</td>\n",
       "    </tr>\n",
       "    <tr>\n",
       "      <th>2023-06-28</th>\n",
       "      <td>600036.XSHG</td>\n",
       "      <td>600036</td>\n",
       "      <td>招商银行</td>\n",
       "      <td>XSHG</td>\n",
       "      <td>32.82</td>\n",
       "      <td>32.82</td>\n",
       "      <td>32.81</td>\n",
       "      <td>33.18</td>\n",
       "      <td>32.72</td>\n",
       "      <td>33.05</td>\n",
       "      <td>...</td>\n",
       "      <td>33.180000</td>\n",
       "      <td>32.720000</td>\n",
       "      <td>33.050000</td>\n",
       "      <td>33.319</td>\n",
       "      <td>34.630778</td>\n",
       "      <td>33.841833</td>\n",
       "      <td>32.899040</td>\n",
       "      <td>33.180000</td>\n",
       "      <td>32.720000</td>\n",
       "      <td>32.940000</td>\n",
       "    </tr>\n",
       "    <tr>\n",
       "      <th>2023-06-29</th>\n",
       "      <td>600036.XSHG</td>\n",
       "      <td>600036</td>\n",
       "      <td>招商银行</td>\n",
       "      <td>XSHG</td>\n",
       "      <td>33.05</td>\n",
       "      <td>33.05</td>\n",
       "      <td>33.05</td>\n",
       "      <td>33.18</td>\n",
       "      <td>32.67</td>\n",
       "      <td>32.68</td>\n",
       "      <td>...</td>\n",
       "      <td>33.180000</td>\n",
       "      <td>32.670000</td>\n",
       "      <td>32.680000</td>\n",
       "      <td>33.214</td>\n",
       "      <td>34.580889</td>\n",
       "      <td>33.817833</td>\n",
       "      <td>32.919520</td>\n",
       "      <td>33.180000</td>\n",
       "      <td>32.670000</td>\n",
       "      <td>32.895000</td>\n",
       "    </tr>\n",
       "    <tr>\n",
       "      <th>2023-06-30</th>\n",
       "      <td>600036.XSHG</td>\n",
       "      <td>600036</td>\n",
       "      <td>招商银行</td>\n",
       "      <td>XSHG</td>\n",
       "      <td>32.68</td>\n",
       "      <td>32.68</td>\n",
       "      <td>32.73</td>\n",
       "      <td>33.00</td>\n",
       "      <td>32.64</td>\n",
       "      <td>32.76</td>\n",
       "      <td>...</td>\n",
       "      <td>33.000000</td>\n",
       "      <td>32.640000</td>\n",
       "      <td>32.760000</td>\n",
       "      <td>33.151</td>\n",
       "      <td>34.530778</td>\n",
       "      <td>33.791333</td>\n",
       "      <td>32.907260</td>\n",
       "      <td>33.000000</td>\n",
       "      <td>32.640000</td>\n",
       "      <td>32.782500</td>\n",
       "    </tr>\n",
       "  </tbody>\n",
       "</table>\n",
       "<p>4935 rows × 34 columns</p>\n",
       "</div>"
      ],
      "text/plain": [
       "                  secID  ticker secShortName exchangeCD  preClosePrice  \\\n",
       "date                                                                     \n",
       "2002-04-09  600036.XSHG  600036         招商银行       XSHG           7.30   \n",
       "2002-04-10  600036.XSHG  600036         招商银行       XSHG          10.66   \n",
       "2002-04-11  600036.XSHG  600036         招商银行       XSHG          10.60   \n",
       "2002-04-12  600036.XSHG  600036         招商银行       XSHG          10.52   \n",
       "2002-04-15  600036.XSHG  600036         招商银行       XSHG          10.57   \n",
       "...                 ...     ...          ...        ...            ...   \n",
       "2023-06-26  600036.XSHG  600036         招商银行       XSHG          33.17   \n",
       "2023-06-27  600036.XSHG  600036         招商银行       XSHG          32.61   \n",
       "2023-06-28  600036.XSHG  600036         招商银行       XSHG          32.82   \n",
       "2023-06-29  600036.XSHG  600036         招商银行       XSHG          33.05   \n",
       "2023-06-30  600036.XSHG  600036         招商银行       XSHG          32.68   \n",
       "\n",
       "            actPreClosePrice  openPrice  highestPrice  lowestPrice  \\\n",
       "date                                                                 \n",
       "2002-04-09              7.30      10.51         10.88        10.51   \n",
       "2002-04-10             10.66      10.66         10.70        10.39   \n",
       "2002-04-11             10.60      10.60         10.68        10.49   \n",
       "2002-04-12             10.52      10.50         10.64        10.48   \n",
       "2002-04-15             10.57      10.57         10.60        10.35   \n",
       "...                      ...        ...           ...          ...   \n",
       "2023-06-26             33.17      32.93         33.10        32.42   \n",
       "2023-06-27             32.61      32.63         33.01        32.44   \n",
       "2023-06-28             32.82      32.81         33.18        32.72   \n",
       "2023-06-29             33.05      33.05         33.18        32.67   \n",
       "2023-06-30             32.68      32.73         33.00        32.64   \n",
       "\n",
       "            closePrice  ...       High        Low      Close    10MA  \\\n",
       "date                    ...                                            \n",
       "2002-04-09       10.66  ...   2.009684   1.941340   1.969047     NaN   \n",
       "2002-04-10       10.60  ...   1.976436   1.919175   1.957964     NaN   \n",
       "2002-04-11       10.52  ...   1.972742   1.937646   1.943187     NaN   \n",
       "2002-04-12       10.57  ...   1.965353   1.935799   1.952423     NaN   \n",
       "2002-04-15       10.39  ...   1.957964   1.911786   1.919175     NaN   \n",
       "...                ...  ...        ...        ...        ...     ...   \n",
       "2023-06-26       32.61  ...  33.100000  32.420000  32.610000  33.479   \n",
       "2023-06-27       32.82  ...  33.010000  32.440000  32.820000  33.387   \n",
       "2023-06-28       33.05  ...  33.180000  32.720000  33.050000  33.319   \n",
       "2023-06-29       32.68  ...  33.180000  32.670000  32.680000  33.214   \n",
       "2023-06-30       32.76  ...  33.000000  32.640000  32.760000  33.151   \n",
       "\n",
       "                 30MA       60MA   New_Open   New_High    New_Low  New_Close  \n",
       "date                                                                          \n",
       "2002-04-09        NaN        NaN   1.941340   2.009684   1.941340   1.969047  \n",
       "2002-04-10        NaN        NaN   1.955194   1.976436   1.919175   1.955656  \n",
       "2002-04-11        NaN        NaN   1.955425   1.972742   1.937646   1.952885  \n",
       "2002-04-12        NaN        NaN   1.954155   1.965353   1.935799   1.948267  \n",
       "2002-04-15        NaN        NaN   1.951211   1.957964   1.911786   1.935337  \n",
       "...               ...        ...        ...        ...        ...        ...  \n",
       "2023-06-26  34.740222  33.887500  33.381161  33.381161  32.420000  32.765000  \n",
       "2023-06-27  34.685778  33.864333  33.073080  33.073080  32.440000  32.725000  \n",
       "2023-06-28  34.630778  33.841833  32.899040  33.180000  32.720000  32.940000  \n",
       "2023-06-29  34.580889  33.817833  32.919520  33.180000  32.670000  32.895000  \n",
       "2023-06-30  34.530778  33.791333  32.907260  33.000000  32.640000  32.782500  \n",
       "\n",
       "[4935 rows x 34 columns]"
      ]
     },
     "execution_count": 256,
     "metadata": {},
     "output_type": "execute_result"
    }
   ],
   "source": [
    "df['招商银行']"
   ]
  },
  {
   "cell_type": "code",
   "execution_count": null,
   "id": "310359a6",
   "metadata": {},
   "outputs": [],
   "source": []
  },
  {
   "cell_type": "code",
   "execution_count": 250,
   "id": "42ee99a8",
   "metadata": {},
   "outputs": [],
   "source": [
    "# def calculate_score(row):\n",
    "#     # improve needed\n",
    "#     new_open = row['New_Open']\n",
    "#     new_high = row['New_High']\n",
    "#     new_low = row['New_Low']\n",
    "#     new_close = row['New_Close']\n",
    "\n",
    "#     if new_low == new_open:\n",
    "#         return 1\n",
    "#     elif new_close > new_open and new_low != new_open:\n",
    "#         return 0.5\n",
    "#     elif new_high == new_open:\n",
    "#         return -1\n",
    "#     elif new_close < new_open and new_high != new_open:\n",
    "#         return -0.5\n",
    "#     else:\n",
    "#         return 0\n",
    "\n",
    "# def calculate_growth_rate(row):\n",
    "# #     growth_rate = (round(row['Close']/(row['Open']), 4) - 1)*100\n",
    "#     growth_rate = np.where((row['Open'] != 0, row['Close'] / (row['Open'], 0)\n",
    "#     growth_rate = (growth_rate), 4) - 1)*100\n",
    "#     return growth_rate\n",
    "\n",
    "def calculate_new_values(prev_open, prev_close, current_open, current_high, current_low, current_close):\n",
    "    new_close = (current_open + current_high + current_low + current_close) / 4\n",
    "    new_open = (prev_open + prev_close) / 2\n",
    "    new_high = max(current_high, new_open, new_close)\n",
    "    new_low = min(current_low, new_open, new_close)\n",
    "\n",
    "    return new_open, new_high, new_low, new_close\n",
    "\n",
    "def read_and_preprocess_data(data):\n",
    "    \n",
    "    data = data.reset_index()\n",
    "\n",
    "    # Add '10MA' and '30MA' columns\n",
    "    data['10MA'] = data['Close'].rolling(window=10).mean()\n",
    "    data['30MA'] = data['Close'].rolling(window=90).mean()\n",
    "    data['60MA'] = data['Close'].rolling(window=60).mean()\n",
    "\n",
    "    # Initialize new columns\n",
    "    data['New_Open'] = data['Open']\n",
    "    data['New_High'] = data['High']\n",
    "    data['New_Low'] = data['Low']\n",
    "    data['New_Close'] = data['Close']\n",
    "\n",
    "    # Calculate new values for each row\n",
    "    for i in range(1, len(data)):\n",
    "        prev_open, prev_close = data.loc[i - 1, ['New_Open', 'New_Close']]\n",
    "        current_open, current_high, current_low, current_close = data.loc[i, ['Open', 'High', 'Low', 'Close']]\n",
    "\n",
    "        new_open, new_high, new_low, new_close = calculate_new_values(prev_open, prev_close, current_open, current_high, current_low, current_close)\n",
    "\n",
    "        data.at[i, 'New_Open'] = new_open\n",
    "        data.at[i, 'New_High'] = new_high\n",
    "        data.at[i, 'New_Low'] = new_low\n",
    "        data.at[i, 'New_Close'] = new_close\n",
    "\n",
    "\n",
    "    # Add 'score' column and calculate scores for each row\n",
    "#     data['score'] = data.apply(calculate_score, axis=1)\n",
    "#     data['growth_rate'] = data.apply(calculate_growth_rate, axis=1)\n",
    "\n",
    "#     data['date'] = pd.to_datetime(data['date'])\n",
    "    data.set_index('date', inplace=True)\n",
    "    return data"
   ]
  },
  {
   "cell_type": "code",
   "execution_count": 276,
   "id": "6acfc88e",
   "metadata": {},
   "outputs": [],
   "source": [
    "import pandas as pd\n",
    "import os\n",
    "import pickle\n",
    "import random\n",
    "\n",
    "\n",
    "class PrepareData:\n",
    "    def __init__(self, file_path, max_stocks_num=100):\n",
    "        self.stocks_data = {}\n",
    "        if file_path.endswith('.csv'):\n",
    "            df = pd.read_csv(file_path)\n",
    "            data = self.read_and_preprocess_data(df)\n",
    "            stock_name = os.path.splitext(file_path)[0].split('/')[-1]\n",
    "            self.stocks_data[stock_name] = data\n",
    "        elif file_path.endswith('.pkl'):\n",
    "            with open(file_path, 'rb') as f:\n",
    "                df = pickle.load(f)\n",
    "            self.stocks = random.sample(list(df.keys()), max_stocks_num)\n",
    "            self.stocks_data = {stock:df[stock] for stock in self.stocks}\n",
    "        else:   # a bunch of csv files\n",
    "            for file_name in os.listdir(file_path):\n",
    "#                 if file_name.endswith('.csv'):\n",
    "                csv_path = os.path.join(file_path, file_name)\n",
    "                df = pd.read_csv(csv_path)\n",
    "                data = self.read_and_preprocess_data(df)\n",
    "                stock_name = os.path.splitext(file_name)[0]\n",
    "                self.stocks_data[stock_name] = data\n",
    "        \n",
    "    def calculate_score(self, row):\n",
    "        # improve needed\n",
    "        new_open = row['New_Open']\n",
    "        new_high = row['New_High']\n",
    "        new_low = row['New_Low']\n",
    "        new_close = row['New_Close']\n",
    "\n",
    "        if new_low == new_open:\n",
    "            return 1\n",
    "        elif new_close > new_open and new_low != new_open:\n",
    "            return 0.5\n",
    "        elif new_high == new_open:\n",
    "            return -1\n",
    "        elif new_close < new_open and new_high != new_open:\n",
    "            return -0.5\n",
    "        else:\n",
    "            return 0\n",
    "        \n",
    "    def calculate_growth_rate(self, row):\n",
    "        growth_rate = (round(row['Close']/row['Open'], 4) - 1)*100\n",
    "        return growth_rate\n",
    "        \n",
    "    def calculate_new_values(self, prev_open, prev_close, current_open, current_high, current_low, current_close):\n",
    "        new_close = (current_open + current_high + current_low + current_close) / 4\n",
    "        new_open = (prev_open + prev_close) / 2\n",
    "        new_high = max(current_high, new_open, new_close)\n",
    "        new_low = min(current_low, new_open, new_close)\n",
    "\n",
    "        return new_open, new_high, new_low, new_close\n",
    "\n",
    "    def read_and_preprocess_data(self, data):\n",
    "        \n",
    "        # Add '10MA' and '30MA' columns\n",
    "        data['10MA'] = data['Close'].rolling(window=10).mean()\n",
    "        data['30MA'] = data['Close'].rolling(window=90).mean()\n",
    "        data['60MA'] = data['Close'].rolling(window=60).mean()\n",
    "        \n",
    "        # Initialize new columns\n",
    "        data['New_Open'] = data['Open']\n",
    "        data['New_High'] = data['High']\n",
    "        data['New_Low'] = data['Low']\n",
    "        data['New_Close'] = data['Close']\n",
    "\n",
    "        # Calculate new values for each row\n",
    "        for i in range(1, len(data)):\n",
    "            prev_open, prev_close = data.loc[i - 1, ['New_Open', 'New_Close']]\n",
    "            current_open, current_high, current_low, current_close = data.loc[i, ['Open', 'High', 'Low', 'Close']]\n",
    "\n",
    "            new_open, new_high, new_low, new_close = self.calculate_new_values(prev_open, prev_close, current_open, current_high, current_low, current_close)\n",
    "\n",
    "            data.at[i, 'New_Open'] = new_open\n",
    "            data.at[i, 'New_High'] = new_high\n",
    "            data.at[i, 'New_Low'] = new_low\n",
    "            data.at[i, 'New_Close'] = new_close\n",
    "\n",
    "\n",
    "        # Add 'score' column and calculate scores for each row\n",
    "        data['score'] = data.apply(self.calculate_score, axis=1)\n",
    "        data['growth_rate'] = data.apply(self.calculate_growth_rate, axis=1)\n",
    "        \n",
    "        data['date'] = pd.to_datetime(data['date'])\n",
    "        data.set_index('date', inplace=True)\n",
    "        return data\n"
   ]
  },
  {
   "cell_type": "code",
   "execution_count": null,
   "id": "e04543c7",
   "metadata": {},
   "outputs": [],
   "source": []
  },
  {
   "cell_type": "code",
   "execution_count": null,
   "id": "37b3fc46",
   "metadata": {},
   "outputs": [],
   "source": []
  },
  {
   "cell_type": "code",
   "execution_count": null,
   "id": "8377bd8f",
   "metadata": {},
   "outputs": [],
   "source": []
  },
  {
   "cell_type": "code",
   "execution_count": null,
   "id": "400f0d59",
   "metadata": {},
   "outputs": [],
   "source": []
  }
 ],
 "metadata": {
  "kernelspec": {
   "display_name": "Python 3 (ipykernel)",
   "language": "python",
   "name": "python3"
  },
  "language_info": {
   "codemirror_mode": {
    "name": "ipython",
    "version": 3
   },
   "file_extension": ".py",
   "mimetype": "text/x-python",
   "name": "python",
   "nbconvert_exporter": "python",
   "pygments_lexer": "ipython3",
   "version": "3.10.9"
  }
 },
 "nbformat": 4,
 "nbformat_minor": 5
}
